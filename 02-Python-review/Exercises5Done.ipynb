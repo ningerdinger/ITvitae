{
 "cells": [
  {
   "cell_type": "code",
   "execution_count": 4,
   "id": "comic-quantum",
   "metadata": {},
   "outputs": [
    {
     "name": "stdout",
     "output_type": "stream",
     "text": [
      "True\n"
     ]
    }
   ],
   "source": [
    "def contains_jill(mydict):\n",
    "    return 'Jill' in mydict\n",
    "\n",
    "dict={\"Jill\":\"test\",\"Blub\":1}\n",
    "print(contains_jill(dict))"
   ]
  },
  {
   "cell_type": "code",
   "execution_count": 14,
   "id": "civic-joshua",
   "metadata": {},
   "outputs": [
    {
     "name": "stdout",
     "output_type": "stream",
     "text": [
      "{'Jill': 'Test', 'Blub': 'hoela', 'hoi': 'ja'}\n",
      "({'Jill': 'Test', 'Blub': 'hoela'}, {'Jill': 'Test'})\n"
     ]
    }
   ],
   "source": [
    "def input_dict(mydict):\n",
    "    result = {key: value for key, value in dict.items() if key[0].isupper()}\n",
    "    result2 = {key: value for key, value in dict.items() if value[0].isupper()}\n",
    "    return result, result2\n",
    "dict={\"Jill\":\"Test\",\"Blub\":\"hoela\", \"hoi\":\"ja\"}\n",
    "print(dict)\n",
    "print(input_dict(dict))"
   ]
  },
  {
   "cell_type": "code",
   "execution_count": 28,
   "id": "running-profit",
   "metadata": {},
   "outputs": [
    {
     "name": "stdout",
     "output_type": "stream",
     "text": [
      "The guess is 12\n",
      "press 0 if the answer is correct\n",
      "press 1 if the answer is higher\n",
      "press 2 if the answer is lower\n",
      "1\n",
      "The guess is 80\n",
      "press 0 if the answer is correct\n",
      "press 1 if the answer is higher\n",
      "press 2 if the answer is lower\n",
      "2\n",
      "The guess is 78\n",
      "press 0 if the answer is correct\n",
      "press 1 if the answer is higher\n",
      "press 2 if the answer is lower\n",
      "2\n",
      "The guess is 51\n",
      "press 0 if the answer is correct\n",
      "press 1 if the answer is higher\n",
      "press 2 if the answer is lower\n",
      "2\n",
      "The guess is 17\n",
      "press 0 if the answer is correct\n",
      "press 1 if the answer is higher\n",
      "press 2 if the answer is lower\n",
      "1\n",
      "The guess is 21\n",
      "press 0 if the answer is correct\n",
      "press 1 if the answer is higher\n",
      "press 2 if the answer is lower\n",
      "1\n",
      "The guess is 22\n",
      "press 0 if the answer is correct\n",
      "press 1 if the answer is higher\n",
      "press 2 if the answer is lower\n",
      "1\n",
      "The guess is 27\n",
      "press 0 if the answer is correct\n",
      "press 1 if the answer is higher\n",
      "press 2 if the answer is lower\n",
      "1\n",
      "The guess is 28\n",
      "press 0 if the answer is correct\n",
      "press 1 if the answer is higher\n",
      "press 2 if the answer is lower\n",
      "1\n",
      "The guess is 29\n",
      "press 0 if the answer is correct\n",
      "press 1 if the answer is higher\n",
      "press 2 if the answer is lower\n",
      "1\n",
      "The guess is 50\n",
      "press 0 if the answer is correct\n",
      "press 1 if the answer is higher\n",
      "press 2 if the answer is lower\n",
      "2\n",
      "The guess is 31\n",
      "press 0 if the answer is correct\n",
      "press 1 if the answer is higher\n",
      "press 2 if the answer is lower\n",
      "1\n",
      "The guess is 34\n",
      "press 0 if the answer is correct\n",
      "press 1 if the answer is higher\n",
      "press 2 if the answer is lower\n",
      "1\n",
      "The guess is 44\n",
      "press 0 if the answer is correct\n",
      "press 1 if the answer is higher\n",
      "press 2 if the answer is lower\n",
      "2\n",
      "The guess is 42\n",
      "press 0 if the answer is correct\n",
      "press 1 if the answer is higher\n",
      "press 2 if the answer is lower\n",
      "2\n",
      "The guess is 36\n",
      "press 0 if the answer is correct\n",
      "press 1 if the answer is higher\n",
      "press 2 if the answer is lower\n",
      "1\n",
      "The guess is 38\n",
      "press 0 if the answer is correct\n",
      "press 1 if the answer is higher\n",
      "press 2 if the answer is lower\n",
      "1\n",
      "The guess is 39\n",
      "press 0 if the answer is correct\n",
      "press 1 if the answer is higher\n",
      "press 2 if the answer is lower\n",
      "1\n",
      "The guess is 41\n",
      "press 0 if the answer is correct\n",
      "press 1 if the answer is higher\n",
      "press 2 if the answer is lower\n",
      "2\n",
      "The guess is 40\n",
      "press 0 if the answer is correct\n",
      "press 1 if the answer is higher\n",
      "press 2 if the answer is lower\n",
      "1\n"
     ]
    },
    {
     "ename": "ValueError",
     "evalue": "empty range for randrange() (41, 41, 0)",
     "output_type": "error",
     "traceback": [
      "\u001b[0;31m---------------------------------------------------------------------------\u001b[0m",
      "\u001b[0;31mValueError\u001b[0m                                Traceback (most recent call last)",
      "\u001b[0;32m<ipython-input-28-d229c9b6ddc4>\u001b[0m in \u001b[0;36m<module>\u001b[0;34m\u001b[0m\n\u001b[1;32m     24\u001b[0m             \u001b[0;32mbreak\u001b[0m\u001b[0;34m\u001b[0m\u001b[0;34m\u001b[0m\u001b[0m\n\u001b[1;32m     25\u001b[0m \u001b[0;34m\u001b[0m\u001b[0m\n\u001b[0;32m---> 26\u001b[0;31m \u001b[0mguessing_game\u001b[0m\u001b[0;34m(\u001b[0m\u001b[0;34m)\u001b[0m\u001b[0;34m\u001b[0m\u001b[0;34m\u001b[0m\u001b[0m\n\u001b[0m",
      "\u001b[0;32m<ipython-input-28-d229c9b6ddc4>\u001b[0m in \u001b[0;36mguessing_game\u001b[0;34m()\u001b[0m\n\u001b[1;32m      6\u001b[0m     \u001b[0mlower\u001b[0m\u001b[0;34m=\u001b[0m\u001b[0;36m0\u001b[0m\u001b[0;34m\u001b[0m\u001b[0;34m\u001b[0m\u001b[0m\n\u001b[1;32m      7\u001b[0m     \u001b[0;32mwhile\u001b[0m \u001b[0mdone\u001b[0m\u001b[0;34m==\u001b[0m\u001b[0;32mFalse\u001b[0m\u001b[0;34m:\u001b[0m\u001b[0;34m\u001b[0m\u001b[0;34m\u001b[0m\u001b[0m\n\u001b[0;32m----> 8\u001b[0;31m         \u001b[0mguess\u001b[0m\u001b[0;34m=\u001b[0m\u001b[0mrandom\u001b[0m\u001b[0;34m.\u001b[0m\u001b[0mrandint\u001b[0m\u001b[0;34m(\u001b[0m\u001b[0mlower\u001b[0m\u001b[0;34m,\u001b[0m \u001b[0mupper\u001b[0m\u001b[0;34m)\u001b[0m\u001b[0;34m\u001b[0m\u001b[0;34m\u001b[0m\u001b[0m\n\u001b[0m\u001b[1;32m      9\u001b[0m         \u001b[0;32mif\u001b[0m \u001b[0mlower\u001b[0m\u001b[0;34m>\u001b[0m\u001b[0mupper\u001b[0m \u001b[0;32mor\u001b[0m \u001b[0mupper\u001b[0m\u001b[0;34m<\u001b[0m\u001b[0mlower\u001b[0m\u001b[0;34m:\u001b[0m\u001b[0;34m\u001b[0m\u001b[0;34m\u001b[0m\u001b[0m\n\u001b[1;32m     10\u001b[0m             \u001b[0;32mcontinue\u001b[0m\u001b[0;34m\u001b[0m\u001b[0;34m\u001b[0m\u001b[0m\n",
      "\u001b[0;32m~/anaconda3/envs/Lesson1/lib/python3.9/random.py\u001b[0m in \u001b[0;36mrandint\u001b[0;34m(self, a, b)\u001b[0m\n\u001b[1;32m    336\u001b[0m         \"\"\"\n\u001b[1;32m    337\u001b[0m \u001b[0;34m\u001b[0m\u001b[0m\n\u001b[0;32m--> 338\u001b[0;31m         \u001b[0;32mreturn\u001b[0m \u001b[0mself\u001b[0m\u001b[0;34m.\u001b[0m\u001b[0mrandrange\u001b[0m\u001b[0;34m(\u001b[0m\u001b[0ma\u001b[0m\u001b[0;34m,\u001b[0m \u001b[0mb\u001b[0m\u001b[0;34m+\u001b[0m\u001b[0;36m1\u001b[0m\u001b[0;34m)\u001b[0m\u001b[0;34m\u001b[0m\u001b[0;34m\u001b[0m\u001b[0m\n\u001b[0m\u001b[1;32m    339\u001b[0m \u001b[0;34m\u001b[0m\u001b[0m\n\u001b[1;32m    340\u001b[0m \u001b[0;34m\u001b[0m\u001b[0m\n",
      "\u001b[0;32m~/anaconda3/envs/Lesson1/lib/python3.9/random.py\u001b[0m in \u001b[0;36mrandrange\u001b[0;34m(self, start, stop, step)\u001b[0m\n\u001b[1;32m    314\u001b[0m             \u001b[0;32mreturn\u001b[0m \u001b[0mistart\u001b[0m \u001b[0;34m+\u001b[0m \u001b[0mself\u001b[0m\u001b[0;34m.\u001b[0m\u001b[0m_randbelow\u001b[0m\u001b[0;34m(\u001b[0m\u001b[0mwidth\u001b[0m\u001b[0;34m)\u001b[0m\u001b[0;34m\u001b[0m\u001b[0;34m\u001b[0m\u001b[0m\n\u001b[1;32m    315\u001b[0m         \u001b[0;32mif\u001b[0m \u001b[0mstep\u001b[0m \u001b[0;34m==\u001b[0m \u001b[0;36m1\u001b[0m\u001b[0;34m:\u001b[0m\u001b[0;34m\u001b[0m\u001b[0;34m\u001b[0m\u001b[0m\n\u001b[0;32m--> 316\u001b[0;31m             \u001b[0;32mraise\u001b[0m \u001b[0mValueError\u001b[0m\u001b[0;34m(\u001b[0m\u001b[0;34m\"empty range for randrange() (%d, %d, %d)\"\u001b[0m \u001b[0;34m%\u001b[0m \u001b[0;34m(\u001b[0m\u001b[0mistart\u001b[0m\u001b[0;34m,\u001b[0m \u001b[0mistop\u001b[0m\u001b[0;34m,\u001b[0m \u001b[0mwidth\u001b[0m\u001b[0;34m)\u001b[0m\u001b[0;34m)\u001b[0m\u001b[0;34m\u001b[0m\u001b[0;34m\u001b[0m\u001b[0m\n\u001b[0m\u001b[1;32m    317\u001b[0m \u001b[0;34m\u001b[0m\u001b[0m\n\u001b[1;32m    318\u001b[0m         \u001b[0;31m# Non-unit step argument supplied.\u001b[0m\u001b[0;34m\u001b[0m\u001b[0;34m\u001b[0m\u001b[0;34m\u001b[0m\u001b[0m\n",
      "\u001b[0;31mValueError\u001b[0m: empty range for randrange() (41, 41, 0)"
     ]
    }
   ],
   "source": [
    "import random\n",
    "\n",
    "def guessing_game():\n",
    "    done=False\n",
    "    upper=100\n",
    "    lower=0\n",
    "    while done==False:\n",
    "        guess=random.randint(lower, upper)\n",
    "        if lower>upper or upper<lower:\n",
    "            continue\n",
    "        print(\"The guess is \"+str(guess))\n",
    "        print(\"press 0 if the answer is correct\")\n",
    "        print(\"press 1 if the answer is higher\")\n",
    "        print(\"press 2 if the answer is lower\")\n",
    "        ans=int(input())\n",
    "        if ans==1:\n",
    "            lower=guess+1\n",
    "            continue\n",
    "        elif ans==2:\n",
    "            upper=guess-1\n",
    "            continue\n",
    "        else:\n",
    "            done=True\n",
    "            break\n",
    "\n",
    "guessing_game()"
   ]
  },
  {
   "cell_type": "code",
   "execution_count": null,
   "id": "interstate-desktop",
   "metadata": {},
   "outputs": [],
   "source": []
  },
  {
   "cell_type": "code",
   "execution_count": null,
   "id": "middle-amsterdam",
   "metadata": {},
   "outputs": [],
   "source": []
  },
  {
   "cell_type": "code",
   "execution_count": null,
   "id": "automated-local",
   "metadata": {},
   "outputs": [],
   "source": []
  }
 ],
 "metadata": {
  "kernelspec": {
   "display_name": "Python 3",
   "language": "python",
   "name": "python3"
  },
  "language_info": {
   "codemirror_mode": {
    "name": "ipython",
    "version": 3
   },
   "file_extension": ".py",
   "mimetype": "text/x-python",
   "name": "python",
   "nbconvert_exporter": "python",
   "pygments_lexer": "ipython3",
   "version": "3.9.1"
  }
 },
 "nbformat": 4,
 "nbformat_minor": 5
}
