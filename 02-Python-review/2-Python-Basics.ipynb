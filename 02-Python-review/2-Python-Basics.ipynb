{
 "cells": [
  {
   "cell_type": "markdown",
   "metadata": {},
   "source": [
    "---\n",
    "\n",
    "<img src=\"logo/anchormen-logo.svg\" width=\"500\">\n",
    "\n",
    "---"
   ]
  },
  {
   "cell_type": "markdown",
   "metadata": {},
   "source": [
    "#  BASICS Lab: Python Basics\n",
    "\n",
    "In this lab session we will explain basic Python syntax and data types. After you have walked through this notebook there is another notebook with exercises which you can use to check the concepts learned.\n",
    "\n",
    "## Goals\n",
    "\n",
    "After this lab, you will have learned:\n",
    "\n",
    "- Python base data types\n",
    "- How to use classes, including methods\n",
    "- How Python handles functions\n",
    "- The principle of method chaining in Python\n",
    "- Know where to find more information"
   ]
  },
  {
   "cell_type": "markdown",
   "metadata": {},
   "source": [
    "## Recap\n",
    "\n",
    "In previous lab sessions the following topics have been discussed:\n",
    "\n",
    "- Python distribution: conda (miniconda, anaconda)\n",
    "- Installing packages using conda or pip\n",
    "- Setting up virtual environments\n",
    "- Working in Jupyter notebooks"
   ]
  },
  {
   "cell_type": "markdown",
   "metadata": {},
   "source": [
    "# Getting help\n",
    "\n",
    "* `type(some_variable)` will tell you the type of a variable\n",
    "* `help(some_variable)` will give you help on the type of value of `some_variable`\n",
    "* Python has good documentation: https://docs.python.org/3/\n",
    "* Python has a huge standard library.\n",
    "https://docs.python.org/3/library/"
   ]
  },
  {
   "cell_type": "markdown",
   "metadata": {},
   "source": [
    "# A1: Data Types\n",
    "\n",
    "Python has a number of data collection types that recur constantly.\n",
    "The basic Data Types used in python are: \n",
    "\n",
    "---\n",
    "\n",
    "## Numbers\n",
    "\n",
    "###  `int`, integer\n",
    "\n",
    "Integers are positive or negative whole numbers between 0\n",
    "\n",
    "    5\n",
    "    -10\n",
    "    0\n",
    "    int(3)"
   ]
  },
  {
   "cell_type": "markdown",
   "metadata": {},
   "source": [
    "### Floats\n",
    "\n",
    "Floating points are how you represent non-integer numbers. Floating point numbers also support representing (negative) infinity and 'not a number' values."
   ]
  },
  {
   "cell_type": "code",
   "execution_count": 1,
   "metadata": {},
   "outputs": [
    {
     "data": {
      "text/plain": [
       "(0.0, -9.1, 0.3, -inf, nan)"
      ]
     },
     "execution_count": 1,
     "metadata": {},
     "output_type": "execute_result"
    }
   ],
   "source": [
    "0.0, -9.1, float('0.3'), float('-Inf'), float('NaN')"
   ]
  },
  {
   "cell_type": "markdown",
   "metadata": {},
   "source": [
    "## Strings\n",
    "\n",
    "Contiguous set of characters represented in quotation marks. You can use `'single quotes'` or `\"double quotes\"`; they mean the same thing. With the slice operator ([] and [:]) subsets of strings can be taken, where index 0 corresponds to the first character and index -1 to the last charector."
   ]
  },
  {
   "cell_type": "code",
   "execution_count": 2,
   "metadata": {},
   "outputs": [
    {
     "data": {
      "text/plain": [
       "'Hello team'"
      ]
     },
     "execution_count": 2,
     "metadata": {},
     "output_type": "execute_result"
    }
   ],
   "source": [
    "string_one = 'Hello team'\n",
    "string_one"
   ]
  },
  {
   "cell_type": "code",
   "execution_count": 3,
   "metadata": {},
   "outputs": [
    {
     "data": {
      "text/plain": [
       "'team'"
      ]
     },
     "execution_count": 3,
     "metadata": {},
     "output_type": "execute_result"
    }
   ],
   "source": [
    "string_one[6:]"
   ]
  },
  {
   "cell_type": "code",
   "execution_count": 4,
   "metadata": {},
   "outputs": [
    {
     "data": {
      "text/plain": [
       "'Hello team Anchormen'"
      ]
     },
     "execution_count": 4,
     "metadata": {},
     "output_type": "execute_result"
    }
   ],
   "source": [
    "string_one + ' Anchormen'"
   ]
  },
  {
   "cell_type": "code",
   "execution_count": 5,
   "metadata": {},
   "outputs": [
    {
     "data": {
      "text/plain": [
       "'Hello teamHello teamHello team'"
      ]
     },
     "execution_count": 5,
     "metadata": {},
     "output_type": "execute_result"
    }
   ],
   "source": [
    "string_one * 3"
   ]
  },
  {
   "cell_type": "markdown",
   "metadata": {},
   "source": [
    "- **Booleans:** "
   ]
  },
  {
   "cell_type": "code",
   "execution_count": 6,
   "metadata": {},
   "outputs": [
    {
     "data": {
      "text/plain": [
       "True"
      ]
     },
     "execution_count": 6,
     "metadata": {},
     "output_type": "execute_result"
    }
   ],
   "source": [
    "True "
   ]
  },
  {
   "cell_type": "code",
   "execution_count": 7,
   "metadata": {},
   "outputs": [
    {
     "data": {
      "text/plain": [
       "False"
      ]
     },
     "execution_count": 7,
     "metadata": {},
     "output_type": "execute_result"
    }
   ],
   "source": [
    "False"
   ]
  },
  {
   "cell_type": "markdown",
   "metadata": {},
   "source": [
    "---"
   ]
  },
  {
   "cell_type": "markdown",
   "metadata": {},
   "source": [
    "## A2: Collection types\n",
    "\n",
    "| type   | delimiters | example |\n",
    "| -----  | ----- | ----- |\n",
    "| Lists  | square brackets | `[1, 2, 3]` |\n",
    "| Dicts  | braces and colons | `{'a': 1, 'b': 2, 'c': 3}` |\n",
    "| Tuples | parentheses (often optional) | `('Ruth', 53, 'Shropshire')` |\n",
    "| Sets   | braces | `{'Peter', 'James', 'Mary'}` |\n"
   ]
  },
  {
   "cell_type": "markdown",
   "metadata": {},
   "source": [
    "## Lists\n",
    "A list is a collection of similar elements. The elements in a list can be of different data types. "
   ]
  },
  {
   "cell_type": "code",
   "execution_count": 8,
   "metadata": {},
   "outputs": [
    {
     "data": {
      "text/plain": [
       "[1, 2, 3]"
      ]
     },
     "execution_count": 8,
     "metadata": {},
     "output_type": "execute_result"
    }
   ],
   "source": [
    "[1, 2, 3]"
   ]
  },
  {
   "cell_type": "code",
   "execution_count": 9,
   "metadata": {},
   "outputs": [
    {
     "data": {
      "text/plain": [
       "['hello', 1, ['a', 2]]"
      ]
     },
     "execution_count": 9,
     "metadata": {},
     "output_type": "execute_result"
    }
   ],
   "source": [
    "# a list can contain differt variable types\n",
    "list_one = ['hello', 1, ['a', 2]]\n",
    "list_one "
   ]
  },
  {
   "cell_type": "code",
   "execution_count": 10,
   "metadata": {},
   "outputs": [
    {
     "data": {
      "text/plain": [
       "['New', 1, ['a', 2]]"
      ]
     },
     "execution_count": 10,
     "metadata": {},
     "output_type": "execute_result"
    }
   ],
   "source": [
    "# You can change the elements in a list\n",
    "list_one[0] = 'New'\n",
    "list_one"
   ]
  },
  {
   "cell_type": "code",
   "execution_count": 11,
   "metadata": {},
   "outputs": [],
   "source": [
    "nested_list = [1, 2, 3, [8, 9, ['hello']]]"
   ]
  },
  {
   "cell_type": "code",
   "execution_count": 12,
   "metadata": {},
   "outputs": [
    {
     "data": {
      "text/plain": [
       "[8, 9, ['hello']]"
      ]
     },
     "execution_count": 12,
     "metadata": {},
     "output_type": "execute_result"
    }
   ],
   "source": [
    "nested_list[3]"
   ]
  },
  {
   "cell_type": "code",
   "execution_count": 13,
   "metadata": {},
   "outputs": [
    {
     "data": {
      "text/plain": [
       "['hello']"
      ]
     },
     "execution_count": 13,
     "metadata": {},
     "output_type": "execute_result"
    }
   ],
   "source": [
    "nested_list[3][2]"
   ]
  },
  {
   "cell_type": "markdown",
   "metadata": {},
   "source": [
    "### Dictionaries\n",
    "\n",
    "A `dict` is a collection of key-value mappings.\n",
    "\n",
    "A `dict` maps *keys* to corresponding *values*. Anytime you need to make it possible to look up information, think of dicts. Dictionary keys are usually numbers or strings, dictionary values can be any Python object. Note that dictionaries have no order among elements. "
   ]
  },
  {
   "cell_type": "code",
   "execution_count": 14,
   "metadata": {},
   "outputs": [
    {
     "data": {
      "text/plain": [
       "{'key1': 'value_1', 'key2': 2, 'key3': 3}"
      ]
     },
     "execution_count": 14,
     "metadata": {},
     "output_type": "execute_result"
    }
   ],
   "source": [
    "dict_one = {'key1': 'value_1', 'key2': 2, 'key3': 3}\n",
    "dict_one"
   ]
  },
  {
   "cell_type": "code",
   "execution_count": 15,
   "metadata": {},
   "outputs": [
    {
     "data": {
      "text/plain": [
       "'value_1'"
      ]
     },
     "execution_count": 15,
     "metadata": {},
     "output_type": "execute_result"
    }
   ],
   "source": [
    "# to access a value\n",
    "dict_one['key1']"
   ]
  },
  {
   "cell_type": "code",
   "execution_count": 16,
   "metadata": {},
   "outputs": [
    {
     "data": {
      "text/plain": [
       "{'key1': 'value_1', 'key2': 2, 'key3': 3, 'key4': 8}"
      ]
     },
     "execution_count": 16,
     "metadata": {},
     "output_type": "execute_result"
    }
   ],
   "source": [
    "# to assign a value \n",
    "dict_one['key4'] = 8\n",
    "dict_one"
   ]
  },
  {
   "cell_type": "code",
   "execution_count": 17,
   "metadata": {},
   "outputs": [
    {
     "data": {
      "text/plain": [
       "{'name': 'Bas', 'age': 12, 'heigth': 174}"
      ]
     },
     "execution_count": 17,
     "metadata": {},
     "output_type": "execute_result"
    }
   ],
   "source": [
    "# note there is no concept of order among the elements\n",
    "dict_two = {'name': 'Bas', 'age': 12, 'heigth': 174}\n",
    "dict_two  "
   ]
  },
  {
   "cell_type": "code",
   "execution_count": 18,
   "metadata": {},
   "outputs": [
    {
     "name": "stdout",
     "output_type": "stream",
     "text": [
      "dict_keys(['key1', 'key2', 'key3', 'key4'])\n",
      "dict_values(['value_1', 2, 3, 8])\n"
     ]
    }
   ],
   "source": [
    "print(dict_one.keys())\n",
    "print(dict_one.values())"
   ]
  },
  {
   "cell_type": "markdown",
   "metadata": {},
   "source": [
    "---"
   ]
  },
  {
   "cell_type": "markdown",
   "metadata": {},
   "source": [
    "### Tuples\n",
    "\n",
    "    ('Ruth', 55, 'Shropshire')\n",
    "\n",
    "A tuple is a\n",
    "* fixed-length,\n",
    "* immutable,\n",
    "* collection of values with different meanings\n",
    "\n",
    "A tuple is like a row in a data table, a list is like a column. (For C programmers: a tuple is like a data struct.)"
   ]
  },
  {
   "cell_type": "markdown",
   "metadata": {},
   "source": [
    "You can access a tuple's fields by their zero-based index:"
   ]
  },
  {
   "cell_type": "code",
   "execution_count": 19,
   "metadata": {},
   "outputs": [
    {
     "data": {
      "text/plain": [
       "'Shropshire'"
      ]
     },
     "execution_count": 19,
     "metadata": {},
     "output_type": "execute_result"
    }
   ],
   "source": [
    "('Ruth', 55, 'Shropshire')[2]"
   ]
  },
  {
   "cell_type": "markdown",
   "metadata": {},
   "source": [
    "Tuples can not be changed:"
   ]
  },
  {
   "cell_type": "code",
   "execution_count": 20,
   "metadata": {},
   "outputs": [
    {
     "ename": "TypeError",
     "evalue": "'tuple' object does not support item assignment",
     "output_type": "error",
     "traceback": [
      "\u001b[0;31m---------------------------------------------------------------------------\u001b[0m",
      "\u001b[0;31mTypeError\u001b[0m                                 Traceback (most recent call last)",
      "\u001b[0;32m<ipython-input-20-882bad3e1a4a>\u001b[0m in \u001b[0;36m<module>\u001b[0;34m\u001b[0m\n\u001b[1;32m      1\u001b[0m \u001b[0mtuple_one\u001b[0m \u001b[0;34m=\u001b[0m \u001b[0;34m(\u001b[0m\u001b[0;36m99\u001b[0m\u001b[0;34m,\u001b[0m \u001b[0;36m5.4\u001b[0m\u001b[0;34m)\u001b[0m\u001b[0;34m\u001b[0m\u001b[0;34m\u001b[0m\u001b[0m\n\u001b[0;32m----> 2\u001b[0;31m \u001b[0mtuple_one\u001b[0m\u001b[0;34m[\u001b[0m\u001b[0;36m0\u001b[0m\u001b[0;34m]\u001b[0m \u001b[0;34m=\u001b[0m \u001b[0;34m'NEW'\u001b[0m\u001b[0;34m\u001b[0m\u001b[0;34m\u001b[0m\u001b[0m\n\u001b[0m",
      "\u001b[0;31mTypeError\u001b[0m: 'tuple' object does not support item assignment"
     ]
    }
   ],
   "source": [
    "tuple_one = (99, 5.4)\n",
    "tuple_one[0] = 'NEW'"
   ]
  },
  {
   "cell_type": "markdown",
   "metadata": {},
   "source": [
    "### Named tuples"
   ]
  },
  {
   "cell_type": "markdown",
   "metadata": {},
   "source": [
    "Named tuple are superior to tuples in every way. The only reason not to use them is when tuple unpacking is good enough; in all other situations, use namedtuples over tuples."
   ]
  },
  {
   "cell_type": "code",
   "execution_count": 21,
   "metadata": {},
   "outputs": [
    {
     "name": "stdout",
     "output_type": "stream",
     "text": [
      "55\n"
     ]
    },
    {
     "data": {
      "text/plain": [
       "Person(name='Ruth', age=55, place='Shropshire')"
      ]
     },
     "execution_count": 21,
     "metadata": {},
     "output_type": "execute_result"
    }
   ],
   "source": [
    "from collections import namedtuple\n",
    "Person = namedtuple('Person', 'name age place')  # Namedtuple is kind enough to split on spaces\n",
    "ruth = Person(name='Ruth', age=55, place='Shropshire')\n",
    "\n",
    "print(ruth.age)\n",
    "ruth"
   ]
  },
  {
   "cell_type": "markdown",
   "metadata": {},
   "source": [
    "### Tuple unpacking\n",
    "\n",
    "When you receive a tuple, you often want to work with the individual elements, rather than the whole tuple. *Tuple unpacking* lets you assign a tuple's elemetns straight into seperate variables.\n",
    "\n",
    "(This example also show that parentheses around tuples are optional.)"
   ]
  },
  {
   "cell_type": "code",
   "execution_count": 22,
   "metadata": {},
   "outputs": [
    {
     "name": "stdout",
     "output_type": "stream",
     "text": [
      "0\n",
      "1\n"
     ]
    },
    {
     "data": {
      "text/plain": [
       "(0, 1)"
      ]
     },
     "execution_count": 22,
     "metadata": {},
     "output_type": "execute_result"
    }
   ],
   "source": [
    "zero, one = 0, 1\n",
    "print(zero)\n",
    "print(one)\n",
    "zero, one"
   ]
  },
  {
   "cell_type": "markdown",
   "metadata": {},
   "source": [
    "One place where tuple unpacking is very common is when you iterate over a sequence of tuples. For example, the built-in `enumerate` function takes a list of items, and returns a sequence of (number, item) tuples. Compare and contrast:"
   ]
  },
  {
   "cell_type": "code",
   "execution_count": 23,
   "metadata": {},
   "outputs": [
    {
     "name": "stdout",
     "output_type": "stream",
     "text": [
      "0: Jan\n",
      "1: Pier\n",
      "2: Tjoris\n",
      "--\n",
      "0: Jan\n",
      "1: Pier\n",
      "2: Tjoris\n"
     ]
    }
   ],
   "source": [
    "for numbered_item in enumerate(['Jan', 'Pier', 'Tjoris']):\n",
    "    print('{}: {}'.format(numbered_item[0], numbered_item[1]))\n",
    "    \n",
    "print('--')\n",
    "        \n",
    "for number, name in enumerate(['Jan', 'Pier', 'Tjoris']):\n",
    "    print('{}: {}'.format(number, name))"
   ]
  },
  {
   "cell_type": "markdown",
   "metadata": {},
   "source": [
    "### Sets\n",
    "    {'peter', 'john', 'james'}\n",
    "    \n",
    "A set is a collection of unique elements."
   ]
  },
  {
   "cell_type": "code",
   "execution_count": 24,
   "metadata": {},
   "outputs": [
    {
     "data": {
      "text/plain": [
       "{'james', 'john', 'peter'}"
      ]
     },
     "execution_count": 24,
     "metadata": {},
     "output_type": "execute_result"
    }
   ],
   "source": [
    "{'peter', 'john', 'james'}"
   ]
  },
  {
   "cell_type": "code",
   "execution_count": 25,
   "metadata": {},
   "outputs": [
    {
     "data": {
      "text/plain": [
       "{'james', 'john', 'peter'}"
      ]
     },
     "execution_count": 25,
     "metadata": {},
     "output_type": "execute_result"
    }
   ],
   "source": [
    "{'peter', 'john', 'james', 'peter', 'john', 'john', 'james',}"
   ]
  },
  {
   "cell_type": "markdown",
   "metadata": {},
   "source": [
    "### Mutable vs Immutable types\n",
    "\n",
    "Data which can be modified is called mutable, data which can not be modified is called immutable. In Python strings and numbers are immutable. This means that when we want to change the value of a variable referring to a string or number, we have to replace the old value with a completely new value. As we saw tuples are also immutable. \n",
    "\n",
    "Lists are mutable, meaning that we can modify them after they have been created. Note that if you would modify a value in a list, and two variables refer to this list it will change for both variables."
   ]
  },
  {
   "cell_type": "markdown",
   "metadata": {},
   "source": [
    "- **Classes**: Sometimes the entity you're thinking of has several kinds of information, like in a tuple; but you also want to collect behaviour in the same place. At this point, you want to think of classes that represent data. Classes should rarely perform actions, barring self-modification. We will discuss classes in more detail later.\n",
    "\n",
    "\n",
    "      class Person:\n",
    "          def __init__(self, name, age, place):\n",
    "              self.name = name\n",
    "              self.age = age\n",
    "              self.place = place\n",
    "              \n",
    "          def is_adult(self):\n",
    "              return 18 <= self.age"
   ]
  },
  {
   "cell_type": "markdown",
   "metadata": {},
   "source": [
    "### Data Type Conversion\n",
    "To perform conversions between data types, you can use the type name as a function: "
   ]
  },
  {
   "cell_type": "code",
   "execution_count": 26,
   "metadata": {},
   "outputs": [
    {
     "name": "stdout",
     "output_type": "stream",
     "text": [
      "<class 'str'>\n"
     ]
    },
    {
     "data": {
      "text/plain": [
       "'True'"
      ]
     },
     "execution_count": 26,
     "metadata": {},
     "output_type": "execute_result"
    }
   ],
   "source": [
    "print(type(''))\n",
    "\n",
    "str(True)"
   ]
  },
  {
   "cell_type": "code",
   "execution_count": 27,
   "metadata": {},
   "outputs": [
    {
     "data": {
      "text/plain": [
       "100"
      ]
     },
     "execution_count": 27,
     "metadata": {},
     "output_type": "execute_result"
    }
   ],
   "source": [
    "int('100')"
   ]
  },
  {
   "cell_type": "markdown",
   "metadata": {},
   "source": [
    "---"
   ]
  },
  {
   "cell_type": "markdown",
   "metadata": {},
   "source": [
    "# B: Python Basic Operators\n",
    "\n",
    "## Comparison Operators: \n",
    "- Compare the values on either side of the operator and decide the relation among them.  "
   ]
  },
  {
   "cell_type": "code",
   "execution_count": 28,
   "metadata": {},
   "outputs": [
    {
     "data": {
      "text/plain": [
       "False"
      ]
     },
     "execution_count": 28,
     "metadata": {},
     "output_type": "execute_result"
    }
   ],
   "source": [
    "20 > 30"
   ]
  },
  {
   "cell_type": "code",
   "execution_count": 29,
   "metadata": {},
   "outputs": [
    {
     "data": {
      "text/plain": [
       "True"
      ]
     },
     "execution_count": 29,
     "metadata": {},
     "output_type": "execute_result"
    }
   ],
   "source": [
    "10 < 20"
   ]
  },
  {
   "cell_type": "code",
   "execution_count": 30,
   "metadata": {},
   "outputs": [
    {
     "data": {
      "text/plain": [
       "True"
      ]
     },
     "execution_count": 30,
     "metadata": {},
     "output_type": "execute_result"
    }
   ],
   "source": [
    "11 >= 11"
   ]
  },
  {
   "cell_type": "code",
   "execution_count": 31,
   "metadata": {},
   "outputs": [
    {
     "data": {
      "text/plain": [
       "True"
      ]
     },
     "execution_count": 31,
     "metadata": {},
     "output_type": "execute_result"
    }
   ],
   "source": [
    "10 <= 14"
   ]
  },
  {
   "cell_type": "code",
   "execution_count": 32,
   "metadata": {},
   "outputs": [
    {
     "data": {
      "text/plain": [
       "False"
      ]
     },
     "execution_count": 32,
     "metadata": {},
     "output_type": "execute_result"
    }
   ],
   "source": [
    "22 == 222"
   ]
  },
  {
   "cell_type": "code",
   "execution_count": 33,
   "metadata": {},
   "outputs": [
    {
     "data": {
      "text/plain": [
       "True"
      ]
     },
     "execution_count": 33,
     "metadata": {},
     "output_type": "execute_result"
    }
   ],
   "source": [
    "'hello' == 'hello'"
   ]
  },
  {
   "cell_type": "markdown",
   "metadata": {},
   "source": [
    "### Logic Operators:\n",
    "- **and** --> if both are true, then condition becomes true \n",
    "- **or**  --> if any of the operants are true, condition becomes true \n",
    "- **not** --> to reverse the logical state of its operand"
   ]
  },
  {
   "cell_type": "code",
   "execution_count": 34,
   "metadata": {},
   "outputs": [
    {
     "data": {
      "text/plain": [
       "False"
      ]
     },
     "execution_count": 34,
     "metadata": {},
     "output_type": "execute_result"
    }
   ],
   "source": [
    "(11 > 22) and (22 < 33)"
   ]
  },
  {
   "cell_type": "code",
   "execution_count": 35,
   "metadata": {},
   "outputs": [
    {
     "data": {
      "text/plain": [
       "True"
      ]
     },
     "execution_count": 35,
     "metadata": {},
     "output_type": "execute_result"
    }
   ],
   "source": [
    "(11 > 22) or (22 < 33)"
   ]
  },
  {
   "cell_type": "code",
   "execution_count": 36,
   "metadata": {},
   "outputs": [
    {
     "data": {
      "text/plain": [
       "True"
      ]
     },
     "execution_count": 36,
     "metadata": {},
     "output_type": "execute_result"
    }
   ],
   "source": [
    "(3 == 2) or (5 == 7) or (8 == 8)"
   ]
  },
  {
   "cell_type": "code",
   "execution_count": 37,
   "metadata": {},
   "outputs": [
    {
     "data": {
      "text/plain": [
       "False"
      ]
     },
     "execution_count": 37,
     "metadata": {},
     "output_type": "execute_result"
    }
   ],
   "source": [
    "not (5 == 5) and ( 4 < 5)"
   ]
  },
  {
   "cell_type": "markdown",
   "metadata": {},
   "source": [
    "### Membership Operators \n",
    "- Test for membership in a sequence, such as strings, lists, or tuples. \n",
    "- **in** --> evaluates true if it find a variable in the sequence\n",
    "- **not in** --> evaluates true if it does not find a variable in sequence"
   ]
  },
  {
   "cell_type": "code",
   "execution_count": 38,
   "metadata": {},
   "outputs": [
    {
     "data": {
      "text/plain": [
       "True"
      ]
     },
     "execution_count": 38,
     "metadata": {},
     "output_type": "execute_result"
    }
   ],
   "source": [
    "'cookie' in 'The monster ate the cookie'"
   ]
  },
  {
   "cell_type": "code",
   "execution_count": 39,
   "metadata": {},
   "outputs": [
    {
     "data": {
      "text/plain": [
       "True"
      ]
     },
     "execution_count": 39,
     "metadata": {},
     "output_type": "execute_result"
    }
   ],
   "source": [
    "'clouds' not in 'The sun is shining'"
   ]
  },
  {
   "cell_type": "markdown",
   "metadata": {},
   "source": [
    "### Identity Operators\n",
    "- Compare the memory locations of two objects \n",
    "- **is** --> evaluates true if the variables point to the same object \n",
    "- **is not** --> evaluates true if the variables do not point to the same object"
   ]
  },
  {
   "cell_type": "code",
   "execution_count": 40,
   "metadata": {},
   "outputs": [
    {
     "data": {
      "text/plain": [
       "True"
      ]
     },
     "execution_count": 40,
     "metadata": {},
     "output_type": "execute_result"
    }
   ],
   "source": [
    "x = 10 \n",
    "y = 10\n",
    "x is y"
   ]
  },
  {
   "cell_type": "code",
   "execution_count": 41,
   "metadata": {},
   "outputs": [
    {
     "data": {
      "text/plain": [
       "False"
      ]
     },
     "execution_count": 41,
     "metadata": {},
     "output_type": "execute_result"
    }
   ],
   "source": [
    "g = 12 \n",
    "h = 12\n",
    "g is not h "
   ]
  },
  {
   "cell_type": "markdown",
   "metadata": {},
   "source": [
    "# C: Decision Making"
   ]
  },
  {
   "cell_type": "markdown",
   "metadata": {},
   "source": [
    "### if, elif, else Statements "
   ]
  },
  {
   "cell_type": "code",
   "execution_count": 42,
   "metadata": {},
   "outputs": [
    {
     "name": "stdout",
     "output_type": "stream",
     "text": [
      "Hello You!\n"
     ]
    }
   ],
   "source": [
    "if 4 < 5: \n",
    "    print ('Hello You!')"
   ]
  },
  {
   "cell_type": "code",
   "execution_count": 43,
   "metadata": {},
   "outputs": [
    {
     "name": "stdout",
     "output_type": "stream",
     "text": [
      "Hello Me\n"
     ]
    }
   ],
   "source": [
    "if 4 > 5:\n",
    "    print ('Hello You')\n",
    "else: \n",
    "    print ('Hello Me')"
   ]
  },
  {
   "cell_type": "code",
   "execution_count": 44,
   "metadata": {},
   "outputs": [
    {
     "name": "stdout",
     "output_type": "stream",
     "text": [
      "Yeeyss\n"
     ]
    }
   ],
   "source": [
    "if 11 == 22: \n",
    "    print ('Yayys')\n",
    "elif 500 == 500: \n",
    "    print ('Yeeyss')\n",
    "else: \n",
    "    print('Yuusy')"
   ]
  },
  {
   "cell_type": "code",
   "execution_count": 45,
   "metadata": {},
   "outputs": [
    {
     "name": "stdout",
     "output_type": "stream",
     "text": [
      "The number equals 200\n"
     ]
    }
   ],
   "source": [
    "# one-line if statements\n",
    "number = 200 \n",
    "if (number == 200) : print ('The number equals 200')"
   ]
  },
  {
   "cell_type": "markdown",
   "metadata": {},
   "source": [
    "# D: Loops"
   ]
  },
  {
   "cell_type": "markdown",
   "metadata": {},
   "source": [
    "### for Loops"
   ]
  },
  {
   "cell_type": "code",
   "execution_count": 46,
   "metadata": {},
   "outputs": [
    {
     "name": "stdout",
     "output_type": "stream",
     "text": [
      "hihi\n",
      "6\n",
      "nono\n",
      "16\n",
      "noppanoppa\n"
     ]
    }
   ],
   "source": [
    "seq = ['hi', 3, 'no', 8, 'noppa']\n",
    "for item in seq: \n",
    "    print (item + item)"
   ]
  },
  {
   "cell_type": "markdown",
   "metadata": {},
   "source": [
    "### while Loops"
   ]
  },
  {
   "cell_type": "code",
   "execution_count": 47,
   "metadata": {},
   "outputs": [
    {
     "name": "stdout",
     "output_type": "stream",
     "text": [
      "We have a: 10\n",
      "We have a: 9\n",
      "We have a: 8\n",
      "We have a: 7\n",
      "We have a: 6\n",
      "We have a: 5\n",
      "We have a: 4\n",
      "We have a: 3\n",
      "We have a: 2\n",
      "We have a: 1\n",
      "Good bye!\n"
     ]
    }
   ],
   "source": [
    "count = 10 \n",
    "while (count > 0):\n",
    "    print ('We have a:', count)\n",
    "    count -= 1\n",
    "print (\"Good bye!\")"
   ]
  },
  {
   "cell_type": "markdown",
   "metadata": {},
   "source": [
    "### Nested Loops"
   ]
  },
  {
   "cell_type": "code",
   "execution_count": 48,
   "metadata": {},
   "outputs": [
    {
     "name": "stdout",
     "output_type": "stream",
     "text": [
      "111111\n",
      "11111\n",
      "1111\n",
      "111\n",
      "11\n",
      "1\n"
     ]
    }
   ],
   "source": [
    "symbol = '1'\n",
    "number = 6 \n",
    "for x in reversed(range(number)):\n",
    "    s = \"\" \n",
    "    for y in range(x+1): \n",
    "        s += symbol \n",
    "    print (s) "
   ]
  },
  {
   "cell_type": "markdown",
   "metadata": {},
   "source": [
    "# E: Functions"
   ]
  },
  {
   "cell_type": "code",
   "execution_count": 49,
   "metadata": {},
   "outputs": [
    {
     "name": "stdout",
     "output_type": "stream",
     "text": [
      "You rolled a 4.\n"
     ]
    }
   ],
   "source": [
    "# A function with no parameters, and its usage:\n",
    "import random\n",
    "def d6():\n",
    "    return random.randint(1, 6)\n",
    "\n",
    "result = d6()\n",
    "print(\"You rolled a {}.\".format(result))"
   ]
  },
  {
   "cell_type": "code",
   "execution_count": 50,
   "metadata": {},
   "outputs": [
    {
     "name": "stdout",
     "output_type": "stream",
     "text": [
      "Is it sunny today? no\n",
      "You think it's gloomy today.\n"
     ]
    }
   ],
   "source": [
    "# A function with two parameters, and its usage:\n",
    "def add(a, b):\n",
    "    return a + b\n",
    "\n",
    "\n",
    "# one parameter\n",
    "def yesorno(answer):\n",
    "    if answer[0] in ('y', 'Y', 'j', 'J'):\n",
    "        return True\n",
    "    else:\n",
    "        return False\n",
    "\n",
    "\n",
    "userinput = input(\"Is it sunny today? \")\n",
    "if yesorno(userinput):\n",
    "    print(\"You think it is sunny today.\")\n",
    "else:\n",
    "    print(\"You think it's gloomy today.\")"
   ]
  },
  {
   "cell_type": "code",
   "execution_count": 51,
   "metadata": {},
   "outputs": [
    {
     "data": {
      "text/plain": [
       "13"
      ]
     },
     "execution_count": 51,
     "metadata": {},
     "output_type": "execute_result"
    }
   ],
   "source": [
    "# A function is a first-class object: you can pass it around just like any other value.\n",
    "def d6():\n",
    "    return random.randint(1, 6)\n",
    "\n",
    "\n",
    "def d20():\n",
    "    return random.randint(1, 20)\n",
    "\n",
    "\n",
    "def n_dice(n, dicetype):\n",
    "    \"\"\" roll n identical dice, and add the rolls together \"\"\"\n",
    "    return sum(dicetype() for i in range(n))\n",
    "\n",
    "\n",
    "n_dice(2, d6)\n",
    "n_dice(1, d20)"
   ]
  },
  {
   "cell_type": "markdown",
   "metadata": {},
   "source": [
    "You could of course just make one die-rolling function with the number of sides as a parameter.\n",
    "This is just an example of how to pass a function as a parameter to another function.\n",
    "\n",
    "Note what the **return statement** role is: \n",
    "- It evaluates the expression which results in a value \n",
    "- That value is produced as the result of a function call "
   ]
  },
  {
   "cell_type": "markdown",
   "metadata": {},
   "source": [
    "### Function Design Recipe\n",
    "\n",
    "When defining and testing the function it can be helpful to follow the steps of the *Function Design Recipe*. \n",
    "The recipe consists of five parts: \n",
    "\n",
    "    1) some test examples (some examples of use, you want some example calls, you also pick a name for the function, often a verb that declaires shortly what the function does.) \n",
    "    2) A type contract (this answers questions such as: What are the parameter types? What type of value is returned) \n",
    "    3) Description óf the function (docstring)\n",
    "    4) Body \n",
    "    5) Test (with the examples) \n",
    "\n",
    "Example of *Function Design Recipe*: "
   ]
  },
  {
   "cell_type": "code",
   "execution_count": 52,
   "metadata": {},
   "outputs": [],
   "source": [
    "def area(base, height):                                             # Header (function name and parameter)\n",
    "    '''(number, number) -> number                                   # Type contract \n",
    "    Return the area of a triangle with the dimensions base          # Description \n",
    "    and height. \n",
    "    \n",
    "    >>>area(10, 5)                                                  # Examples of use of the function \n",
    "    25.0\n",
    "    >>>area(2.5, 3)\n",
    "    3.75\n",
    "    '''\n",
    "    \n",
    "    return base * height / 2                                        # Body "
   ]
  },
  {
   "cell_type": "markdown",
   "metadata": {},
   "source": [
    "# F: Classes & Methods\n",
    "\n",
    "### Classes\n",
    "\n",
    "Python classes work much like classes in other OO languages. Methods are functions on objects, like in other OO languages.\n",
    "\n",
    "Many things are objects:\n",
    "\n",
    "    # a string is an object, join is a method on it, and range() produces an iterator object\n",
    "    \",\".join(range(10))\n",
    "\n",
    "\n",
    "### Method Chaining\n",
    "\n",
    "An expression is replaced by the value it evaluates to -- in the case of a function call, this means it is replaced by the value it returns. This means that if a method ends with `return self` or `return some_instance`, you can immediately call another method of that class on the result.\n",
    "\n",
    "\n",
    "     class Number:\n",
    "         def __init__(self, n):\n",
    "             self.n = n\n",
    "             \n",
    "         def add(self, n):\n",
    "             return Number(self.n + n)\n",
    "             \n",
    "         def multiply(self, n):\n",
    "             self.n = self.n * n\n",
    "             return self\n",
    "             \n",
    "     x = Number(0)\n",
    "     x.add(1).multiply(10).add(2)\n",
    "     x.n    "
   ]
  },
  {
   "cell_type": "markdown",
   "metadata": {},
   "source": [
    "# G: Other Concepts\n",
    "\n",
    "### Printing"
   ]
  },
  {
   "cell_type": "code",
   "execution_count": 53,
   "metadata": {},
   "outputs": [
    {
     "name": "stdout",
     "output_type": "stream",
     "text": [
      "hello!\n"
     ]
    }
   ],
   "source": [
    "x = 'hello!'\n",
    "print(x) "
   ]
  },
  {
   "cell_type": "code",
   "execution_count": 54,
   "metadata": {},
   "outputs": [
    {
     "name": "stdout",
     "output_type": "stream",
     "text": [
      "My name is: Linda, and my age is: 35\n"
     ]
    }
   ],
   "source": [
    "name = 'Linda'\n",
    "age = 35\n",
    "print('My name is: {}, and my age is: {}'.format(name, age))"
   ]
  },
  {
   "cell_type": "code",
   "execution_count": 55,
   "metadata": {},
   "outputs": [
    {
     "name": "stdout",
     "output_type": "stream",
     "text": [
      "My name is: Linda, and my age is: 35\n"
     ]
    }
   ],
   "source": [
    "# new from python 3.6, f-strings\n",
    "print(f'My name is: {name}, and my age is: {age}')"
   ]
  },
  {
   "cell_type": "markdown",
   "metadata": {},
   "source": [
    "### Assigning Variables"
   ]
  },
  {
   "cell_type": "markdown",
   "metadata": {},
   "source": [
    "- **Variable Assignments**: Note that variable assignments can not start with number or a special character. Good practice is to use underscores to seperate  words or *camel-case*.\n",
    "\n",
    "```python \n",
    "ticket_price = 10 \n",
    "ticketPriceExposition = 15```\n",
    "\n",
    "- **Multiple Assignment**: In Pyhton you can assign a single value to several variables. You can also simultaneously assign multiple objects to multiple variables. "
   ]
  },
  {
   "cell_type": "code",
   "execution_count": 56,
   "metadata": {},
   "outputs": [
    {
     "name": "stdout",
     "output_type": "stream",
     "text": [
      "3 3 3\n"
     ]
    }
   ],
   "source": [
    "a = d = f = 3\n",
    "print (f, d, a)"
   ]
  },
  {
   "cell_type": "code",
   "execution_count": 57,
   "metadata": {},
   "outputs": [
    {
     "name": "stdout",
     "output_type": "stream",
     "text": [
      "4 8 lisa\n"
     ]
    }
   ],
   "source": [
    "name, b, f = 'lisa', 4, 8 \n",
    "print (b, f, name)"
   ]
  },
  {
   "cell_type": "markdown",
   "metadata": {},
   "source": [
    "### List Comprehension\n",
    "A concise way to create a list. "
   ]
  },
  {
   "cell_type": "code",
   "execution_count": 58,
   "metadata": {},
   "outputs": [
    {
     "name": "stdout",
     "output_type": "stream",
     "text": [
      "[0, 1, 4, 9, 16]\n"
     ]
    }
   ],
   "source": [
    "# no list comprehension syntax \n",
    "x = list(range(5))\n",
    "out = [] \n",
    "for item in x: \n",
    "    out.append(item**2)\n",
    "print (out)"
   ]
  },
  {
   "cell_type": "code",
   "execution_count": 59,
   "metadata": {},
   "outputs": [
    {
     "data": {
      "text/plain": [
       "[0, 1, 4, 9, 16]"
      ]
     },
     "execution_count": 59,
     "metadata": {},
     "output_type": "execute_result"
    }
   ],
   "source": [
    "# list comprehension syntax used\n",
    "[item**2 for item in x]"
   ]
  },
  {
   "cell_type": "markdown",
   "metadata": {
    "collapsed": true
   },
   "source": [
    "### Lambda Expressions\n",
    "A lambda function takes any number of arguments and returns the value of a single expression. lambda functions can not contain commands, and they can not contain more than one expression.  "
   ]
  },
  {
   "cell_type": "code",
   "execution_count": 60,
   "metadata": {},
   "outputs": [
    {
     "data": {
      "text/plain": [
       "6"
      ]
     },
     "execution_count": 60,
     "metadata": {},
     "output_type": "execute_result"
    }
   ],
   "source": [
    "# example\n",
    "def f(x): \n",
    "    return x*2 \n",
    "f(3)\n",
    "\n",
    "# with lambda expression, which can be called through the varable g\n",
    "g = lambda x: x*2 \n",
    "g(3)\n",
    "\n",
    "# lambda expression, without assigning it to variable\n",
    "(lambda x: x*2)(3)"
   ]
  },
  {
   "cell_type": "markdown",
   "metadata": {},
   "source": [
    "## Summary & Resources\n",
    "\n",
    "In this lab session we discussed the basics of Python. Understanding the basics of Python is necessary for upcoming lab-sessions and the use of additional Python libraries. The resources below can be used as additional resources. Head over tot the lab called 'Python-Exercises' and complete the exercises. \n",
    "\n",
    "* Python cheat sheet: https://www.cheatography.com/davechild/cheat-sheets/python/\n",
    "* Python cheat sheet (like the Pandas cheat sheet):\n",
    "    http://www.webpages.uidaho.edu/~stevel/504/Python%20Notes.pdf\n",
    "    also available in this directory."
   ]
  },
  {
   "cell_type": "code",
   "execution_count": 61,
   "metadata": {},
   "outputs": [
    {
     "data": {
      "text/plain": [
       "['ArithmeticError',\n",
       " 'AssertionError',\n",
       " 'AttributeError',\n",
       " 'BaseException',\n",
       " 'BlockingIOError',\n",
       " 'BrokenPipeError',\n",
       " 'BufferError',\n",
       " 'BytesWarning',\n",
       " 'ChildProcessError',\n",
       " 'ConnectionAbortedError',\n",
       " 'ConnectionError',\n",
       " 'ConnectionRefusedError',\n",
       " 'ConnectionResetError',\n",
       " 'DeprecationWarning',\n",
       " 'EOFError',\n",
       " 'Ellipsis',\n",
       " 'EnvironmentError',\n",
       " 'Exception',\n",
       " 'False',\n",
       " 'FileExistsError',\n",
       " 'FileNotFoundError',\n",
       " 'FloatingPointError',\n",
       " 'FutureWarning',\n",
       " 'GeneratorExit',\n",
       " 'IOError',\n",
       " 'ImportError',\n",
       " 'ImportWarning',\n",
       " 'IndentationError',\n",
       " 'IndexError',\n",
       " 'InterruptedError',\n",
       " 'IsADirectoryError',\n",
       " 'KeyError',\n",
       " 'KeyboardInterrupt',\n",
       " 'LookupError',\n",
       " 'MemoryError',\n",
       " 'ModuleNotFoundError',\n",
       " 'NameError',\n",
       " 'None',\n",
       " 'NotADirectoryError',\n",
       " 'NotImplemented',\n",
       " 'NotImplementedError',\n",
       " 'OSError',\n",
       " 'OverflowError',\n",
       " 'PendingDeprecationWarning',\n",
       " 'PermissionError',\n",
       " 'ProcessLookupError',\n",
       " 'RecursionError',\n",
       " 'ReferenceError',\n",
       " 'ResourceWarning',\n",
       " 'RuntimeError',\n",
       " 'RuntimeWarning',\n",
       " 'StopAsyncIteration',\n",
       " 'StopIteration',\n",
       " 'SyntaxError',\n",
       " 'SyntaxWarning',\n",
       " 'SystemError',\n",
       " 'SystemExit',\n",
       " 'TabError',\n",
       " 'TimeoutError',\n",
       " 'True',\n",
       " 'TypeError',\n",
       " 'UnboundLocalError',\n",
       " 'UnicodeDecodeError',\n",
       " 'UnicodeEncodeError',\n",
       " 'UnicodeError',\n",
       " 'UnicodeTranslateError',\n",
       " 'UnicodeWarning',\n",
       " 'UserWarning',\n",
       " 'ValueError',\n",
       " 'Warning',\n",
       " 'ZeroDivisionError',\n",
       " '__IPYTHON__',\n",
       " '__build_class__',\n",
       " '__debug__',\n",
       " '__doc__',\n",
       " '__import__',\n",
       " '__loader__',\n",
       " '__name__',\n",
       " '__package__',\n",
       " '__spec__',\n",
       " 'abs',\n",
       " 'all',\n",
       " 'any',\n",
       " 'ascii',\n",
       " 'bin',\n",
       " 'bool',\n",
       " 'breakpoint',\n",
       " 'bytearray',\n",
       " 'bytes',\n",
       " 'callable',\n",
       " 'chr',\n",
       " 'classmethod',\n",
       " 'compile',\n",
       " 'complex',\n",
       " 'copyright',\n",
       " 'credits',\n",
       " 'delattr',\n",
       " 'dict',\n",
       " 'dir',\n",
       " 'display',\n",
       " 'divmod',\n",
       " 'enumerate',\n",
       " 'eval',\n",
       " 'exec',\n",
       " 'filter',\n",
       " 'float',\n",
       " 'format',\n",
       " 'frozenset',\n",
       " 'get_ipython',\n",
       " 'getattr',\n",
       " 'globals',\n",
       " 'hasattr',\n",
       " 'hash',\n",
       " 'help',\n",
       " 'hex',\n",
       " 'id',\n",
       " 'input',\n",
       " 'int',\n",
       " 'isinstance',\n",
       " 'issubclass',\n",
       " 'iter',\n",
       " 'len',\n",
       " 'license',\n",
       " 'list',\n",
       " 'locals',\n",
       " 'map',\n",
       " 'max',\n",
       " 'memoryview',\n",
       " 'min',\n",
       " 'next',\n",
       " 'object',\n",
       " 'oct',\n",
       " 'open',\n",
       " 'ord',\n",
       " 'pow',\n",
       " 'print',\n",
       " 'property',\n",
       " 'range',\n",
       " 'repr',\n",
       " 'reversed',\n",
       " 'round',\n",
       " 'set',\n",
       " 'setattr',\n",
       " 'slice',\n",
       " 'sorted',\n",
       " 'staticmethod',\n",
       " 'str',\n",
       " 'sum',\n",
       " 'super',\n",
       " 'tuple',\n",
       " 'type',\n",
       " 'vars',\n",
       " 'zip']"
      ]
     },
     "execution_count": 61,
     "metadata": {},
     "output_type": "execute_result"
    }
   ],
   "source": [
    "# To check all the built in functions of python type: \n",
    "dir(__builtins__)"
   ]
  },
  {
   "cell_type": "code",
   "execution_count": 62,
   "metadata": {},
   "outputs": [
    {
     "name": "stdout",
     "output_type": "stream",
     "text": [
      "Help on built-in function abs in module builtins:\n",
      "\n",
      "abs(x, /)\n",
      "    Return the absolute value of the argument.\n",
      "\n"
     ]
    }
   ],
   "source": [
    "# More information on a built in function can be required by typing: \n",
    "# help(builtinfunction)\n",
    "help(abs)"
   ]
  }
 ],
 "metadata": {
  "anaconda-cloud": {},
  "kernelspec": {
   "display_name": "Python 3",
   "language": "python",
   "name": "python3"
  },
  "language_info": {
   "codemirror_mode": {
    "name": "ipython",
    "version": 3
   },
   "file_extension": ".py",
   "mimetype": "text/x-python",
   "name": "python",
   "nbconvert_exporter": "python",
   "pygments_lexer": "ipython3",
   "version": "3.8.5"
  }
 },
 "nbformat": 4,
 "nbformat_minor": 1
}
