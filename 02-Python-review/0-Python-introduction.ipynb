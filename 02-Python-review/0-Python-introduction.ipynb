{
 "cells": [
  {
   "cell_type": "markdown",
   "metadata": {},
   "source": [
    "---\n",
    "\n",
    "<img src=\"logo/anchormen-logo.svg\" width=\"500\">\n",
    "\n",
    "---"
   ]
  },
  {
   "cell_type": "markdown",
   "metadata": {},
   "source": [
    "# BASICS Lab: Introduction to Python \n",
    "\n",
    "In this lab session we will take a look at why Python is relevant for Data Scientists and Data Engineers\n",
    "\n",
    "## Goals\n",
    "\n",
    "After this lab, you will:\n",
    "\n",
    "- Have an understanding of what makes Python versatile for DS/DE work\n",
    "- Understand what makes Python a powerful programming language"
   ]
  },
  {
   "cell_type": "markdown",
   "metadata": {},
   "source": [
    "## Wikipedia\n",
    "\n",
    "Let's look at the first paragraph on the [Wikipedia page for Python](https://en.wikipedia.org/wiki/Python_%28programming_language%29)"
   ]
  },
  {
   "cell_type": "markdown",
   "metadata": {},
   "source": [
    "---\n",
    "\n",
    "<img src=\"images/python_wikipedia.png\">\n",
    "\n",
    "---"
   ]
  },
  {
   "cell_type": "markdown",
   "metadata": {},
   "source": [
    "* **Interpreted**: Not compiled upfront, but only just-in-time, at the start of the execution of a program. It is not interpreted and executed line-by-line: a syntax error at the bottom of your code will mean that no code will be executed"
   ]
  },
  {
   "cell_type": "markdown",
   "metadata": {},
   "source": [
    "* **General-purpose programming**: Among all programming languages, Python has the broadest range of application areas. On niche areas, there may be stronger alternative languages (R in DS, Ruby for web development), but Python beats all others in general applicability"
   ]
  },
  {
   "cell_type": "markdown",
   "metadata": {},
   "source": [
    "* Created and maintained by a Dutchman, Guido van Rossum"
   ]
  },
  {
   "cell_type": "markdown",
   "metadata": {},
   "source": [
    "* **Code reability**: although it's very well possible to write hard to read code, properly written code often stands out in its clarity"
   ]
  },
  {
   "cell_type": "markdown",
   "metadata": {},
   "source": [
    "* **Clear programming on both small and large scale**: Beginners find it easy to learn Python, and more advanced users can go a very long way in building more complex applications. Other easy to learn languages are limited in what they can do. Python also enables to start with a simple construct and develop a more complex one later, without needing to change the API; initially you can use object *attributes*, and later you can replace them with *properties*, i.e. getter/setter methods, that will still look like attributes for code that consumes your object."
   ]
  },
  {
   "cell_type": "markdown",
   "metadata": {},
   "source": [
    "* **Significant whitespace**: Other languages (like Java, Javascript) use indentation only for readibility, and control blocks are defined between `{` and `}`. As white space is insignificant for those languages but is used for keeping code readable, white space can sometimes be misleading when you don't see a trailing `;`. This cannot happen in Python, as whitespace defines the blocks and control flow"
   ]
  },
  {
   "cell_type": "markdown",
   "metadata": {},
   "source": [
    "* **Dynamic type system**: In contrast with languages with static typing, Python does not check type constraints at compile time, nor does it during execution time. This allows for **duck typing**, creating a product that mimics a type by supporting its key methods ('if it walks like a duck and quacks like a duck, it's a duck')."
   ]
  },
  {
   "cell_type": "markdown",
   "metadata": {},
   "source": [
    "* **Programming paradigms**: Python may have started as 'just a scripting language', but by now it has become a full blown programming language that supports multiple styles of programming.\n",
    "    * **Functional**: functions are the first tool you should reach for to organize your code, and Python has excellent support for working with them. You can use functions to express rules for filtering, mapping values, or combining values, and then pass those functions as arguments to `filter()`, `map()` and `reduce()`. Also borrowed from the functional world: compact and expressive syntax like **list, dictionary, and set comprehensions** and **generator expressions**.\n",
    "    * **Object-oriented**: Complex values are often best expressed as objects with various attributes. Python is a first class OO language: everything is an object, even functions, classes, and primitive values.\n",
    "    * **Imperative / Procedural**: The classical 'scripting language' style, changing a system's state one step at the time. Python is excellent for quick scripts."
   ]
  },
  {
   "cell_type": "markdown",
   "metadata": {},
   "source": [
    "* **Large standard library**: Python comes with 'batteries included'; many powerful libraries are part of its standard distribution. On top of that the community based repository of public libraries counts more than 130k libraries. Everyone can publish a library on PyPI, as long as it has a unique name. There are many 3rd party libraries that have given Python a significant foot print in various IT domains:\n",
    "    * Django and Flask are the most popular frameworks for building web applications and REST APIs\n",
    "    * Pandas, Numpy, Sci-kitlearn, matplotlib are popular DS packages\n",
    "    * SQL Alchemy as an Object Relational Mapper (ORM) for interacting with SQL databases\n",
    "    * etc"
   ]
  },
  {
   "cell_type": "markdown",
   "metadata": {},
   "source": [
    "* **CPython**: is the open source reference implementation supported by the Python Software Foundation (PSF). There are other implementations for other runtime environments like Jython (for the JVM) and IronPython (for .Net). Another interesting implementation is MicroPython, which runs on very small and cheap microcontrollers."
   ]
  },
  {
   "cell_type": "markdown",
   "metadata": {},
   "source": [
    "## Popularity\n",
    "Python is the single language that has a steady growth in the number of question views on [StackOverflow](https://stackoverflow.blog/2017/09/06/incredible-growth-python/)"
   ]
  },
  {
   "cell_type": "markdown",
   "metadata": {},
   "source": [
    "---\n",
    "\n",
    "<img src=\"images/growth_major_languages-1-1024x878.png\" width=\"500\">\n",
    "\n",
    "---"
   ]
  },
  {
   "cell_type": "markdown",
   "metadata": {},
   "source": [
    "## 'Python is slow'\n",
    "\n",
    "In general, Python is indeed a slow language compared to C. Also in general, this doesn't matter, for the following reasons:\n",
    "\n",
    "* Computers are fast: unless you are processing large workloads, your programs will typically still run in only a few hundreds of milliseconds.\n",
    "* If you do have large workloads: Python libraries that do intensive number crunching typically wrap fast C and Fortran libraries.\n",
    "* Data scientists work in a hypothesize - code - observe loop. Python programs are easy to write quickly -- the speed gained in the 'code' step compensates for a lot of lost execution speed.\n",
    "* Pypy is an alternative Python implementation that is famous for its performance. It does this by analyzing your code upfront (which can take a very long time) and stripping away much of the overhead for dynamic typing\n"
   ]
  },
  {
   "cell_type": "markdown",
   "metadata": {},
   "source": [
    "## Drawbacks\n",
    "\n",
    "Despite Python being a very popular and powerful language, it also has weak areas which are hard to work with. Environment management (introduced in the next lab) and packaging (out of scope for this module) are some of those."
   ]
  }
 ],
 "metadata": {
  "anaconda-cloud": {},
  "kernelspec": {
   "display_name": "Python 3",
   "language": "python",
   "name": "python3"
  },
  "language_info": {
   "codemirror_mode": {
    "name": "ipython",
    "version": 3
   },
   "file_extension": ".py",
   "mimetype": "text/x-python",
   "name": "python",
   "nbconvert_exporter": "python",
   "pygments_lexer": "ipython3",
   "version": "3.8.5"
  }
 },
 "nbformat": 4,
 "nbformat_minor": 1
}
