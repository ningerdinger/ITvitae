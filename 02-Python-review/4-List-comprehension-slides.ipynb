{
 "cells": [
  {
   "cell_type": "markdown",
   "metadata": {
    "slideshow": {
     "slide_type": "slide"
    }
   },
   "source": [
    "## What a list comprehension looks like\n",
    "\n",
    "    [<expression with item_var> for <item_var> in <sequence>]\n",
    "\n",
    "* Takes an **iterable** sequence (list, dictionary, set, tuple, generator, string, file, ...) as input\n",
    "* **Transforms** each element of that sequence\n",
    "* Evaluates to **a list** of transformed elements\n",
    "\n",
    "Can also filter -- we'll see that in a later slide."
   ]
  },
  {
   "cell_type": "code",
   "execution_count": 1,
   "metadata": {},
   "outputs": [
    {
     "data": {
      "text/plain": [
       "[100, 200, 300, 400]"
      ]
     },
     "execution_count": 1,
     "metadata": {},
     "output_type": "execute_result"
    }
   ],
   "source": [
    "# List comprehension: map every element to its tenfold\n",
    "input_list = [10, 20, 30, 40]\n",
    "[x * 10 for x in input_list]"
   ]
  },
  {
   "cell_type": "markdown",
   "metadata": {
    "slideshow": {
     "slide_type": "slide"
    }
   },
   "source": [
    "## Why list comprehensions\n",
    "\n",
    "Programming consists of **data transformation** and **side effects**\n",
    "\n",
    "Most data transformation on collections takes one of 3 forms:\n",
    "\n",
    "1. Transform each element of the collection: `map(function, sequence)`, list comprehension\n",
    "2. Keep each element that meets a condition: `filter(function, sequence)`, list comprehensions\n",
    "3. Summarize a collection: `reduce()`, statistics, lots of other functions\n",
    "\n",
    "List comprehensions are a compact way to write the two most common collection transformations"
   ]
  },
  {
   "cell_type": "markdown",
   "metadata": {
    "slideshow": {
     "slide_type": "slide"
    }
   },
   "source": [
    "## An expression is anything that can be reduced to a value\n",
    "\n",
    "    [<expression with item_var> for <item_var> in <sequence>]\n",
    "\n",
    "Expressions only contain identifiers, literals and operators\n",
    "\n",
    "* function calls are fine\n",
    "* method calls are fine\n",
    "* indexing is fine\n",
    "\n",
    "Basically, avoid function/class definitions and flow control.\n",
    "\n",
    "* No `def ...:`\n",
    "* No `if ...:`\n",
    "* No `return ...`"
   ]
  },
  {
   "cell_type": "markdown",
   "metadata": {
    "slideshow": {
     "slide_type": "slide"
    }
   },
   "source": [
    "## An expression is anything that can be reduced to a value"
   ]
  },
  {
   "cell_type": "code",
   "execution_count": 4,
   "metadata": {
    "slideshow": {
     "slide_type": "-"
    }
   },
   "outputs": [
    {
     "data": {
      "text/plain": [
       "[11, 21, None, None]"
      ]
     },
     "execution_count": 4,
     "metadata": {},
     "output_type": "execute_result"
    }
   ],
   "source": [
    "def maybe_plus_one(x):\n",
    "    if x < 30:\n",
    "        return x + 1\n",
    "\n",
    "# List comprehension: map every x to x+1\n",
    "[maybe_plus_one(x) for x in [10, 20, 30, 40]]"
   ]
  },
  {
   "cell_type": "code",
   "execution_count": 5,
   "metadata": {
    "slideshow": {
     "slide_type": "fragment"
    }
   },
   "outputs": [
    {
     "data": {
      "text/plain": [
       "['Ja', 'Ja', 'Mo', 'Mo', 'We', 'Ge', 'du', 'Pr']"
      ]
     },
     "execution_count": 5,
     "metadata": {},
     "output_type": "execute_result"
    }
   ],
   "source": [
    "# Split string on whitespace to get a list of names\n",
    "names = 'James James Morrison Morrison Weather George du Pree'.split()\n",
    "\n",
    "# List comprehension: map every word to its first two characters\n",
    "[name[0:2] for name in names]"
   ]
  },
  {
   "cell_type": "code",
   "execution_count": 6,
   "metadata": {
    "slideshow": {
     "slide_type": "fragment"
    }
   },
   "outputs": [
    {
     "data": {
      "text/plain": [
       "['T_', 'O_', 'M_']"
      ]
     },
     "execution_count": 6,
     "metadata": {},
     "output_type": "execute_result"
    }
   ],
   "source": [
    "# Map every character to its uppercase, and add an underscore\n",
    "[char.upper() + '_' for char in 'Tom']"
   ]
  },
  {
   "cell_type": "markdown",
   "metadata": {
    "slideshow": {
     "slide_type": "slide"
    }
   },
   "source": [
    "### List comprehensions allow filtering\n",
    "\n",
    "Add `if` plus a filtering expression at the end"
   ]
  },
  {
   "cell_type": "code",
   "execution_count": 7,
   "metadata": {},
   "outputs": [
    {
     "data": {
      "text/plain": [
       "['Tom', 'Dick', 'Harry']"
      ]
     },
     "execution_count": 7,
     "metadata": {},
     "output_type": "execute_result"
    }
   ],
   "source": [
    "names = ['Tom', 'Dick', 'Harry']\n",
    "[name for name in names]"
   ]
  },
  {
   "cell_type": "code",
   "execution_count": 8,
   "metadata": {
    "slideshow": {
     "slide_type": "-"
    }
   },
   "outputs": [
    {
     "data": {
      "text/plain": [
       "['Tom', 'Dick']"
      ]
     },
     "execution_count": 8,
     "metadata": {},
     "output_type": "execute_result"
    }
   ],
   "source": [
    "[name for name in names if len(name) <= 4]"
   ]
  },
  {
   "cell_type": "markdown",
   "metadata": {
    "slideshow": {
     "slide_type": "slide"
    }
   },
   "source": [
    "## Dictionary comprensions exist, too"
   ]
  },
  {
   "cell_type": "markdown",
   "metadata": {},
   "source": [
    "This is a dictionary literal:"
   ]
  },
  {
   "cell_type": "code",
   "execution_count": 9,
   "metadata": {},
   "outputs": [
    {
     "data": {
      "text/plain": [
       "{'Joan': 8, 'Pippa': 12}"
      ]
     },
     "execution_count": 9,
     "metadata": {},
     "output_type": "execute_result"
    }
   ],
   "source": [
    "{'Joan': 8, 'Pippa': 12}"
   ]
  },
  {
   "cell_type": "markdown",
   "metadata": {},
   "source": [
    "This is a dict comprehension:"
   ]
  },
  {
   "cell_type": "code",
   "execution_count": 10,
   "metadata": {},
   "outputs": [
    {
     "data": {
      "text/plain": [
       "{'Dick': 4, 'Tom': 3}"
      ]
     },
     "execution_count": 10,
     "metadata": {},
     "output_type": "execute_result"
    }
   ],
   "source": [
    "{name: len(name) for name in names if len(name) <= 4}"
   ]
  },
  {
   "cell_type": "markdown",
   "metadata": {
    "slideshow": {
     "slide_type": "slide"
    }
   },
   "source": [
    "## Generator expressions: lazy lists"
   ]
  },
  {
   "cell_type": "markdown",
   "metadata": {},
   "source": [
    "### What is a generator?\n",
    "\n",
    "* A lazy sequence of values: the next value is only computed when you ask for it\n",
    "* You can iterate over the entire sequence with `for value in the_generator`\n",
    "* You can manually get the next value with `next(the_generator)`"
   ]
  },
  {
   "cell_type": "markdown",
   "metadata": {
    "slideshow": {
     "slide_type": "-"
    }
   },
   "source": [
    "### What is a generator good for?\n",
    "\n",
    "* When you don't want to have the entire list in memory at once (saves CPU, too!)\n",
    "* When you only need to pass over the generator's items once, in order\n",
    "* When you don't need random access: `mygenerator[3]` will not work"
   ]
  },
  {
   "cell_type": "markdown",
   "metadata": {
    "slideshow": {
     "slide_type": "slide"
    }
   },
   "source": [
    "## Life cyle of a generator\n",
    "\n",
    "(0) Generator function  \n",
    "(1) Generator or Generator expression  \n",
    "(2) Consumption  \n",
    "(3) Empty generator"
   ]
  },
  {
   "cell_type": "markdown",
   "metadata": {
    "collapsed": true,
    "slideshow": {
     "slide_type": "-"
    }
   },
   "source": [
    "### How do I consume a generator?\n",
    "\n",
    "* `list(mygenerator)` consumes all values, and returns a list of all values\n",
    "  * Useful when you get a generator, but want a list\n",
    "* `next(mygenerator)` consumes one value, and returns that value\n",
    "  * You'll rarely use this\n",
    "* `for item in mygenerator:` consume and use items one by one\n",
    "    * repeatedly calls next()"
   ]
  },
  {
   "cell_type": "markdown",
   "metadata": {
    "slideshow": {
     "slide_type": "slide"
    }
   },
   "source": [
    "### 1. Generator function"
   ]
  },
  {
   "cell_type": "code",
   "execution_count": 11,
   "metadata": {
    "collapsed": true
   },
   "outputs": [],
   "source": [
    "def countdown(n):\n",
    "    while 0 < n:\n",
    "        yield n\n",
    "        n = n - 1\n",
    "    yield 'Liftoff!'"
   ]
  },
  {
   "cell_type": "markdown",
   "metadata": {
    "slideshow": {
     "slide_type": "-"
    }
   },
   "source": [
    "### 2. Generator or generator expression"
   ]
  },
  {
   "cell_type": "code",
   "execution_count": 12,
   "metadata": {},
   "outputs": [
    {
     "name": "stdout",
     "output_type": "stream",
     "text": [
      "<generator object countdown at 0x7f55183bdbf8>\n",
      "<generator object <genexpr> at 0x7f55183bdbf8>\n"
     ]
    }
   ],
   "source": [
    "print(countdown(4))\n",
    "print( (char for char in 'asdf') )"
   ]
  },
  {
   "cell_type": "markdown",
   "metadata": {
    "slideshow": {
     "slide_type": "slide"
    }
   },
   "source": [
    "### 3. Consumption"
   ]
  },
  {
   "cell_type": "code",
   "execution_count": 13,
   "metadata": {},
   "outputs": [
    {
     "data": {
      "text/plain": [
       "[4, 3, 2, 1, 'Liftoff!']"
      ]
     },
     "execution_count": 13,
     "metadata": {},
     "output_type": "execute_result"
    }
   ],
   "source": [
    "list(countdown(4))"
   ]
  },
  {
   "cell_type": "code",
   "execution_count": 14,
   "metadata": {},
   "outputs": [
    {
     "data": {
      "text/plain": [
       "'a'"
      ]
     },
     "execution_count": 14,
     "metadata": {},
     "output_type": "execute_result"
    }
   ],
   "source": [
    "next( (char for char in 'asdf') )"
   ]
  },
  {
   "cell_type": "markdown",
   "metadata": {},
   "source": [
    "### 4. Empty generator"
   ]
  },
  {
   "cell_type": "code",
   "execution_count": 15,
   "metadata": {},
   "outputs": [
    {
     "ename": "StopIteration",
     "evalue": "",
     "output_type": "error",
     "traceback": [
      "\u001b[0;31m---------------------------------------------------------------------------\u001b[0m",
      "\u001b[0;31mStopIteration\u001b[0m                             Traceback (most recent call last)",
      "\u001b[0;32m<ipython-input-15-48302582de04>\u001b[0m in \u001b[0;36m<module>\u001b[0;34m()\u001b[0m\n\u001b[1;32m      1\u001b[0m \u001b[0mc\u001b[0m \u001b[0;34m=\u001b[0m \u001b[0mcountdown\u001b[0m\u001b[0;34m(\u001b[0m\u001b[0;36m4\u001b[0m\u001b[0;34m)\u001b[0m\u001b[0;34m\u001b[0m\u001b[0m\n\u001b[1;32m      2\u001b[0m \u001b[0mlist\u001b[0m\u001b[0;34m(\u001b[0m\u001b[0mc\u001b[0m\u001b[0;34m)\u001b[0m\u001b[0;34m\u001b[0m\u001b[0m\n\u001b[0;32m----> 3\u001b[0;31m \u001b[0mnext\u001b[0m\u001b[0;34m(\u001b[0m\u001b[0mc\u001b[0m\u001b[0;34m)\u001b[0m\u001b[0;34m\u001b[0m\u001b[0m\n\u001b[0m",
      "\u001b[0;31mStopIteration\u001b[0m: "
     ]
    }
   ],
   "source": [
    "c = countdown(4)\n",
    "list(c)\n",
    "next(c)"
   ]
  },
  {
   "cell_type": "markdown",
   "metadata": {
    "slideshow": {
     "slide_type": "slide"
    }
   },
   "source": [
    "## Generator expressions\n",
    "\n",
    "A generator expression is like a list comprehension, but wrapped in round parentheses instead of square brackets"
   ]
  },
  {
   "cell_type": "code",
   "execution_count": 17,
   "metadata": {},
   "outputs": [
    {
     "data": {
      "text/plain": [
       "[1, 2, 3, 4]"
      ]
     },
     "execution_count": 17,
     "metadata": {},
     "output_type": "execute_result"
    }
   ],
   "source": [
    "input_list = [1, 2, 3, 4]\n",
    "output_list = [x for x in input_list]\n",
    "output_list"
   ]
  },
  {
   "cell_type": "code",
   "execution_count": 18,
   "metadata": {},
   "outputs": [
    {
     "data": {
      "text/plain": [
       "<generator object <genexpr> at 0x7f55183bda98>"
      ]
     },
     "execution_count": 18,
     "metadata": {},
     "output_type": "execute_result"
    }
   ],
   "source": [
    "input_list = [1, 2, 3, 4]\n",
    "generator = (x for x in input_list)\n",
    "generator"
   ]
  },
  {
   "cell_type": "markdown",
   "metadata": {
    "slideshow": {
     "slide_type": "slide"
    }
   },
   "source": [
    "## `map(function, sequence)` is equivalent to a generator comprehension"
   ]
  },
  {
   "cell_type": "code",
   "execution_count": 21,
   "metadata": {},
   "outputs": [
    {
     "data": {
      "text/plain": [
       "[2, 3, 4, 5]"
      ]
     },
     "execution_count": 21,
     "metadata": {},
     "output_type": "execute_result"
    }
   ],
   "source": [
    "my_generator = map(lambda x: x + 1, [1, 2, 3, 4])\n",
    "my_list = list(my_generator)\n",
    "my_list"
   ]
  },
  {
   "cell_type": "markdown",
   "metadata": {
    "slideshow": {
     "slide_type": "slide"
    }
   },
   "source": [
    "## A pipeline of list comprehensions\n",
    "\n",
    "We are going to parse this log file:"
   ]
  },
  {
   "cell_type": "code",
   "execution_count": 22,
   "metadata": {
    "collapsed": true
   },
   "outputs": [],
   "source": [
    "# The fields of my logfile: id, name, and payment\n",
    "my_logfile = \"\"\"\\\n",
    "12,Joan,12.50\n",
    "13,Carl,1\n",
    "14,Pippa,30\\\n",
    "\"\"\""
   ]
  },
  {
   "cell_type": "markdown",
   "metadata": {
    "slideshow": {
     "slide_type": "slide"
    }
   },
   "source": [
    "## A pipeline of list comprehensions"
   ]
  },
  {
   "cell_type": "markdown",
   "metadata": {},
   "source": [
    "Notice how the data flows from list comprehension to list comprehension, to be filtered and transformed at each step."
   ]
  },
  {
   "cell_type": "code",
   "execution_count": 23,
   "metadata": {},
   "outputs": [
    {
     "name": "stdout",
     "output_type": "stream",
     "text": [
      "lines: ['12,Joan,12.50', '13,Carl,1', '14,Pippa,30']\n",
      "rows: [['12', 'Joan', '12.50'], ['13', 'Carl', '1'], ['14', 'Pippa', '30']]\n",
      "rows_with_numbers: [(12, 'Joan', 12.5), (13, 'Carl', 1.0), (14, 'Pippa', 30.0)]\n",
      "paid_at_least_10: [(12, 'Joan', 12.5), (14, 'Pippa', 30.0)]\n"
     ]
    }
   ],
   "source": [
    "lines = my_logfile.split('\\n')\n",
    "rows = [line.split(',') for line in lines]\n",
    "rows_with_numbers = [(int(r[0]), r[1], float(r[2])) for r in rows]\n",
    "paid_at_least_10 = [row for row in rows_with_numbers if 10 < row[2]]\n",
    "\n",
    "print('lines:', lines)\n",
    "print('rows:', rows)\n",
    "print('rows_with_numbers:', rows_with_numbers)\n",
    "print('paid_at_least_10:', paid_at_least_10)"
   ]
  },
  {
   "cell_type": "markdown",
   "metadata": {
    "slideshow": {
     "slide_type": "slide"
    }
   },
   "source": [
    "### A pipeline of generator expressions\n",
    "\n",
    "Replace list comprehensions with generator expressions: free laziness!"
   ]
  },
  {
   "cell_type": "code",
   "execution_count": 24,
   "metadata": {},
   "outputs": [
    {
     "name": "stdout",
     "output_type": "stream",
     "text": [
      "<generator object <genexpr> at 0x7f55183f02b0>\n"
     ]
    },
    {
     "data": {
      "text/plain": [
       "[(12, 'Joan', 12.5), (14, 'Pippa', 30.0)]"
      ]
     },
     "execution_count": 24,
     "metadata": {},
     "output_type": "execute_result"
    }
   ],
   "source": [
    "lines = my_logfile.split('\\n')\n",
    "rows = (line.split(',') for line in lines)\n",
    "rows_with_numbers = ((int(row[0]), row[1], float(row[2])) for row in rows)\n",
    "paid_at_least_10 = (row for row in rows_with_numbers if 10 < row[2])\n",
    "\n",
    "print(paid_at_least_10)\n",
    "\n",
    "# list() starts consuming the generators, and starts the data flowing\n",
    "list(paid_at_least_10)"
   ]
  }
 ],
 "metadata": {
  "celltoolbar": "Slideshow",
  "kernelspec": {
   "display_name": "Python 3",
   "language": "python",
   "name": "python3"
  },
  "language_info": {
   "codemirror_mode": {
    "name": "ipython",
    "version": 3
   },
   "file_extension": ".py",
   "mimetype": "text/x-python",
   "name": "python",
   "nbconvert_exporter": "python",
   "pygments_lexer": "ipython3",
   "version": "3.9.1"
  }
 },
 "nbformat": 4,
 "nbformat_minor": 2
}
