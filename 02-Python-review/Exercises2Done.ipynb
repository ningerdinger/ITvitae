{
 "cells": [
  {
   "cell_type": "markdown",
   "metadata": {},
   "source": [
    "---\n",
    "\n",
    "<img src=\"logo/anchormen-logo.svg\" width=\"500\">\n",
    "---"
   ]
  },
  {
   "cell_type": "markdown",
   "metadata": {},
   "source": [
    "#  BASICS Lab: Python Exercises \n",
    "\n",
    "Try to solve the exercises. "
   ]
  },
  {
   "cell_type": "markdown",
   "metadata": {},
   "source": [
    "**Exercise: Given the variables `name` and `age`, use the .format() and f-strings methods to print the following string:**\n",
    "\n",
    "```The name of the girl is Lisa and her age is 18. ```"
   ]
  },
  {
   "cell_type": "code",
   "execution_count": 4,
   "metadata": {},
   "outputs": [],
   "source": [
    "name = 'Lisa'\n",
    "age = 18 "
   ]
  },
  {
   "cell_type": "code",
   "execution_count": 6,
   "metadata": {},
   "outputs": [
    {
     "data": {
      "text/plain": [
       "'The name of the girl is Lisa and her age is 18.'"
      ]
     },
     "execution_count": 6,
     "metadata": {},
     "output_type": "execute_result"
    }
   ],
   "source": [
    "f\"The name of the girl is {name} and her age is {age}.\""
   ]
  },
  {
   "cell_type": "markdown",
   "metadata": {},
   "source": [
    "**Exercise: Given the list in the cell below, use list indexing to grab the word 'Pear'.**"
   ]
  },
  {
   "cell_type": "code",
   "execution_count": 8,
   "metadata": {},
   "outputs": [],
   "source": [
    "l = [10, 22, ['hi', 'ha', 'ho'], [4, [23, 11, ['Pear']], 8, 9]]"
   ]
  },
  {
   "cell_type": "code",
   "execution_count": 14,
   "metadata": {},
   "outputs": [
    {
     "name": "stdout",
     "output_type": "stream",
     "text": [
      "Pear\n"
     ]
    }
   ],
   "source": [
    "result = l[-1][1][2][0]\n",
    "print(result)\n",
    "assert result == 'Pear', 'The list indexing is not correct yet'"
   ]
  },
  {
   "cell_type": "markdown",
   "metadata": {},
   "source": [
    "**Exercise: Explain in your own words: what is the main difference in behaviour between a list and a tuple? When would you use a list, and when a tuple?**"
   ]
  },
  {
   "cell_type": "markdown",
   "metadata": {},
   "source": [
    "**Exercise: Create a dictionary called `city2region` where every key is a city, and each key's value is the city's region.** "
   ]
  },
  {
   "cell_type": "code",
   "execution_count": 17,
   "metadata": {},
   "outputs": [],
   "source": [
    "city2region = {\"Den Bosch\": \"Noord Brabant\", \"Maastricht\":\"Limburg\", \"Groningen\":\"Groningen\", \"Leeuwarden\":\"Friesland\",\"Assen\":\"Drenthe\",\"Zwolle\":\"Overijssel\",\"Lelystad\":\"Flevoland\",\"Arnhem\":\"Gelderland\",\"Utrecht\":\"Utrecht\",\"Haarlem\":\"Noord-Holland\",\"Den Haag\":\"Zuid-Holland\",\"Middelburg\":\"Zeeland\"}\n",
    "\n",
    "assert city2region[\"Maastricht\"] == \"Limburg\""
   ]
  },
  {
   "cell_type": "markdown",
   "metadata": {},
   "source": [
    "**Exercise: Write a function that converts degrees Fahrenheit to Celcius**"
   ]
  },
  {
   "cell_type": "code",
   "execution_count": 21,
   "metadata": {},
   "outputs": [
    {
     "name": "stdout",
     "output_type": "stream",
     "text": [
      "0.0\n",
      "-40.0\n"
     ]
    }
   ],
   "source": [
    "def convert_to_celcius(fahrenheit):\n",
    "    celcius=(fahrenheit - 32)*(5/9)\n",
    "    # implement body \n",
    "    return celcius\n",
    "\n",
    "print(convert_to_celcius(32.0))#as check\n",
    "print(convert_to_celcius(-40.0))#as check\n",
    "\n",
    "assert convert_to_celcius(32.0) == 0.0, 'The function is not correct yet!'\n",
    "assert convert_to_celcius(-40.0) == -40.0, 'The function is not correct yet!'"
   ]
  },
  {
   "cell_type": "markdown",
   "metadata": {},
   "source": [
    "**Exercise: Write a function that returns the area of a triangle. After the function is designed and tested, write a function that takes the area of two pizza slices and return the biggest area. Then pass in the area-function as a parameter of the pizza-function**"
   ]
  },
  {
   "cell_type": "code",
   "execution_count": 24,
   "metadata": {},
   "outputs": [
    {
     "name": "stdout",
     "output_type": "stream",
     "text": [
      "13.299999999999999\n",
      "11.9\n",
      "13.299999999999999\n"
     ]
    }
   ],
   "source": [
    "def area(base, height):                                       \n",
    "    result=(height*base)/2\n",
    "    # implement body \n",
    "    return result\n",
    "\n",
    "def bigger_pizza_slice(pizza_slice1, pizza_slice2):\n",
    "    if pizza_slice1>pizza_slice2:\n",
    "        return pizza_slice1\n",
    "    else:\n",
    "        return pizza_slice2\n",
    "\n",
    "print(area(3.8, 7.0))\n",
    "print(area(3.5, 6.8))\n",
    "    \n",
    "print(bigger_pizza_slice(area(3.8, 7.0),area(3.5, 6.8)))\n",
    "\n",
    "assert bigger_pizza_slice(area(3.8, 7.0), area(3.5, 6.8)) == 13.299999999999999, 'The function is not correct yet!'"
   ]
  },
  {
   "cell_type": "markdown",
   "metadata": {},
   "source": [
    "**Exercise: Write a function that takes a scheduled time moment for a flight and an estimated time moment for a flight, based on these parameters the function should return weither the flight is 'on time', 'early' or 'delayed'. ** "
   ]
  },
  {
   "cell_type": "code",
   "execution_count": 25,
   "metadata": {},
   "outputs": [
    {
     "name": "stdout",
     "output_type": "stream",
     "text": [
      "early\n"
     ]
    }
   ],
   "source": [
    "def report_status(scheduled_time, estimated_time):\n",
    "    if scheduled_time<estimated_time:\n",
    "        return \"delayed\"\n",
    "    elif scheduled_time>estimated_time:\n",
    "        return \"early\"\n",
    "    else:\n",
    "        return \"on time\"\n",
    "   \n",
    "print(report_status(12.5, 11.5))\n",
    "    # implement body \n",
    "    \n",
    "assert report_status(12.5, 11.5) == 'early', 'The function is not correct yet!'\n"
   ]
  },
  {
   "cell_type": "markdown",
   "metadata": {},
   "source": [
    "**Exercise: First write a function that takes a DNA string and returns the lenght of the string. Next write a function that takes a DNA string as input and one specified nucleotide (ATCG), the function should return the amount of nucleotide's in the DNA sequence. Finally write a function that returns True if the given input string is a valid DNA string. A valid DNA string can only contain the nucleotides (ATCG). ** "
   ]
  },
  {
   "cell_type": "code",
   "execution_count": 76,
   "metadata": {},
   "outputs": [
    {
     "name": "stdout",
     "output_type": "stream",
     "text": [
      "6\n",
      "0\n",
      "2\n",
      "True\n",
      "False\n"
     ]
    }
   ],
   "source": [
    "def get_length(dna):\n",
    "    # implement body \n",
    "    return len(dna)\n",
    "print(get_length('ATCGAT') )\n",
    "assert get_length('ATCGAT') == 6, 'The function is not correct yet!'\n",
    "\n",
    "def count_nucleotides(dna, nucleotide):\n",
    "    number=0\n",
    "    for i in dna:\n",
    "        if i==nucleotide:\n",
    "            number=number+1\n",
    "    # implement body \n",
    "    return number\n",
    "print(count_nucleotides('ATCTA', 'G'))\n",
    "print(count_nucleotides('ATCTA', 'T'))\n",
    "assert count_nucleotides('ATCTA', 'G') == 0, 'The function is not correct yet!'\n",
    "\n",
    "def is_valid_sequence(potential_dna):\n",
    "    result=True\n",
    "    listA=['A','T','C','G']\n",
    "    for i in range(len(potential_dna)):\n",
    "        if str(potential_dna[i]) not in list1:\n",
    "            result=False\n",
    "    return result \n",
    "\n",
    "print(is_valid_sequence('ATCGGC'))\n",
    "print(is_valid_sequence('ATCGGCD'))\n",
    "assert is_valid_sequence('ATCGGC') == True, 'The function is not correct yet!'"
   ]
  },
  {
   "cell_type": "markdown",
   "metadata": {},
   "source": [
    "**Exercise: Write a function that returns True if a number is even, False otherwise.**"
   ]
  },
  {
   "cell_type": "code",
   "execution_count": 77,
   "metadata": {},
   "outputs": [
    {
     "name": "stdout",
     "output_type": "stream",
     "text": [
      "True\n",
      "False\n"
     ]
    }
   ],
   "source": [
    "def is_even(num): \n",
    "    if num%2==0:\n",
    "        return True\n",
    "    else:\n",
    "        return False\n",
    "\n",
    "print(is_even(4))  \n",
    "print(is_even(5))  \n",
    "    \n",
    "assert is_even(4) == True, 'The function is not correct yet!'"
   ]
  },
  {
   "cell_type": "markdown",
   "metadata": {},
   "source": [
    "**Bonus Exercise: Do the above exercise for prime numbers, instead of even numbers.**"
   ]
  },
  {
   "cell_type": "code",
   "execution_count": 79,
   "metadata": {},
   "outputs": [
    {
     "name": "stdout",
     "output_type": "stream",
     "text": [
      "False\n",
      "True\n",
      "False\n"
     ]
    }
   ],
   "source": [
    "def is_prime(num): \n",
    "    result=True\n",
    "    for i in range(2,num):\n",
    "        if num%i==0:\n",
    "            result=False\n",
    "    return result\n",
    "\n",
    "print(is_prime(4))\n",
    "print(is_prime(7))\n",
    "print(is_prime(217))\n",
    "\n",
    "assert is_prime(4) == False, 'The function is not correct yet!'\n",
    "assert is_prime(7) == True, 'The function is not correct yet!'\n",
    "assert is_prime(217) == False, 'The function is not correct yet!'"
   ]
  },
  {
   "cell_type": "markdown",
   "metadata": {
    "collapsed": true
   },
   "source": [
    "**Exercise: Write a function that takes two times (in seconds) and returns how many seconds time_2 is later than time_1.**\n",
    "\n",
    "**Next, write a function that takes two times (in seconds) and returns how many hours time_2 is later than time_1.** "
   ]
  },
  {
   "cell_type": "code",
   "execution_count": 81,
   "metadata": {},
   "outputs": [
    {
     "name": "stdout",
     "output_type": "stream",
     "text": [
      "1800\n",
      "0.5\n"
     ]
    }
   ],
   "source": [
    "def seconds_difference(time_1, time_2):\n",
    "    result=time_2-time_1\n",
    "    # implement body \n",
    "    return result\n",
    "\n",
    "print(seconds_difference(1800, 3600))\n",
    "assert seconds_difference(1800, 3600) == 1800, 'The function is not correct yet!'\n",
    "\n",
    "def hours_difference(time_1, time_2):\n",
    "    seconds_diff=time_2-time_1\n",
    "    hour_diff=seconds_diff/(60*60)\n",
    "    # implement body \n",
    "    return hour_diff\n",
    "\n",
    "print(hours_difference(1800.0, 3600.0))\n",
    "assert hours_difference(1800.0, 3600.0) == 0.5, 'The function is not correct yet!'\n"
   ]
  },
  {
   "cell_type": "markdown",
   "metadata": {},
   "source": [
    "**Exercise: First write a function that converts the hours that have passed since midnight. So the hours as seen on a 24-hour clock. (Note that the input hours should be above 0). Next write a function that takes the the UTC offset (which specifies the time zone) and the second parameter is a time in that time zone. The function should return the equivalent UTC+0 time. Furthermore the function should return the time on a 24 hour clock (which was specified by the first function). For both functions **"
   ]
  },
  {
   "cell_type": "code",
   "execution_count": 83,
   "metadata": {},
   "outputs": [
    {
     "name": "stdout",
     "output_type": "stream",
     "text": [
      "4.5\n",
      "22.0\n"
     ]
    }
   ],
   "source": [
    "def to_24_hour_clock(hours):\n",
    "    result=hours%24\n",
    "    # implement body \n",
    "    return result\n",
    "\n",
    "print(to_24_hour_clock(28.5))\n",
    "\n",
    "assert to_24_hour_clock(28.5) == 4.5, 'The function is not correct yet!'\n",
    "\n",
    "def time_from_utc(utc_offset, time):\n",
    "    time_real=time+utc_offset\n",
    "    result=to_24_hour_clock(time_real)\n",
    "    # implement body \n",
    "    return result\n",
    "\n",
    "print(time_from_utc(-1, 23.0))\n",
    "assert time_from_utc(-1, 23.0) == 22.0, 'The function is not correct yet!'"
   ]
  },
  {
   "cell_type": "markdown",
   "metadata": {},
   "source": [
    "**Exercise: Create a Dog Class which has the the attributes: breed, name and a method bark (which prints 'whoeff'). Then make two instances of the class: one represents Sam, who is a labrador, and the other represents Frank, who is a huskie**"
   ]
  },
  {
   "cell_type": "code",
   "execution_count": 89,
   "metadata": {},
   "outputs": [
    {
     "name": "stdout",
     "output_type": "stream",
     "text": [
      "Sam\n",
      "labrador\n",
      "\n",
      "whoeff\n",
      "\n",
      "None\n",
      "\n",
      "Frank\n",
      "husky\n",
      "\n",
      "whoeff\n",
      "\n",
      "None\n"
     ]
    }
   ],
   "source": [
    "class Dog:\n",
    "    def __init__(self,breed, name):\n",
    "        self.breed=breed\n",
    "        self.name=name\n",
    "    \n",
    "    def bark(self):\n",
    "        print()\n",
    "        print(\"whoeff\")\n",
    "        print()\n",
    "\n",
    "Dog1=Dog(\"labrador\",\"Sam\")\n",
    "Dog2=Dog(\"husky\",\"Frank\")\n",
    "print(Dog1.name)\n",
    "print(Dog1.breed)\n",
    "print(Dog1.bark())\n",
    "print()\n",
    "print(Dog2.name)\n",
    "print(Dog2.breed)\n",
    "print(Dog2.bark())"
   ]
  },
  {
   "cell_type": "markdown",
   "metadata": {},
   "source": [
    "## Conclusion\n",
    "\n",
    "When finished with the exercises you can check the answers in the 'Python-Exercises-Solutions' notebook. For additional resources see the 'Python-Basics' notebook. "
   ]
  },
  {
   "cell_type": "code",
   "execution_count": null,
   "metadata": {},
   "outputs": [],
   "source": []
  }
 ],
 "metadata": {
  "anaconda-cloud": {},
  "kernelspec": {
   "display_name": "Python 3",
   "language": "python",
   "name": "python3"
  },
  "language_info": {
   "codemirror_mode": {
    "name": "ipython",
    "version": 3
   },
   "file_extension": ".py",
   "mimetype": "text/x-python",
   "name": "python",
   "nbconvert_exporter": "python",
   "pygments_lexer": "ipython3",
   "version": "3.9.1"
  }
 },
 "nbformat": 4,
 "nbformat_minor": 1
}
