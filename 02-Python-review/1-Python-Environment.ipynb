{
 "cells": [
  {
   "cell_type": "markdown",
   "metadata": {},
   "source": [
    "---\n",
    "\n",
    "<img src=\"logo/anchormen-logo.svg\" width=\"500\">\n",
    "\n",
    "---"
   ]
  },
  {
   "cell_type": "markdown",
   "metadata": {},
   "source": [
    "#  BASICS Lab: Python Environment \n",
    "\n",
    "In this lab session we will take a look at some usefull working tools. \n",
    "\n",
    "## Goals\n",
    "\n",
    "After this lab, you will:\n",
    "\n",
    "- Have installed Anaconda\n",
    "- Know how to use conda to create and work with isolated Python environments\n",
    "- Know how to install Python packages\n",
    "- Know how to launch a Jupyter Notebook server in its own conda environment\n",
    "- Know how to create and work with Jupyter Notebooks\n",
    "- Know how to work with markdown and code cells"
   ]
  },
  {
   "cell_type": "markdown",
   "metadata": {},
   "source": [
    "## A: Installing Anaconda\n",
    "\n",
    "**Exercise**: If you haven't already done so, install Anaconda from https://www.continuum.io/downloads and choose\n",
    "Python version 3.5 or higher (these instructions have been checked using Python\n",
    "3.5). You are encouraged to install the English version of this software."
   ]
  },
  {
   "cell_type": "markdown",
   "metadata": {},
   "source": [
    "## B: Virtual Environments and Installing Packages\n",
    "\n",
    "### Creating Environments\n",
    "\n",
    "**Exercise**: Now that we have conda, let’s create an environment that uses\n",
    "pandas. Because Conda provides pre-compiled versions of packages, it can install\n",
    "pandas even if you don’t have a C or C++ compiler. This alone is a major reason\n",
    "to prefer conda over virtualenvs.\n",
    "\n",
    "> ```conda create --name mypanda pandas```\n",
    "\n",
    "**Tip**: when using literal text from these instructions, try to copy/paste from the\n",
    "digital version of this document to prevent typos.\n",
    " \n",
    "Gotcha’s:\n",
    "\n",
    "- It’s ```conda create```, not ```conda env create```\n",
    "- You have to specify at least one name of a package the environment should contain. When in doubt, tell it to install ```pip```.\n"
   ]
  },
  {
   "cell_type": "markdown",
   "metadata": {},
   "source": [
    "### Activating / Deactivating Environments\n",
    "\n",
    "Packages installed inside an environment are not accessible outside it, and vice\n",
    "versa. This means that if your program works in an environment, you can be sure\n",
    "that that environment’s specification is sufficient for other people trying to run\n",
    "your program.\n",
    "\n",
    "**Exercise**: Activate and deactivate the environment and find out its effects:\n",
    "\n",
    ">```python \n",
    "> activate mypanda      # On Linux: source activate mypanda\n",
    "> # Now open python, and check that `import pandas` works.\n",
    ">\n",
    "> deactivate mypanda    # On Linux: source deactivate\n",
    "> # Open python again and verify that `import pandas` no longer works.\n",
    ">```"
   ]
  },
  {
   "cell_type": "markdown",
   "metadata": {},
   "source": [
    "### Installing Packages\n",
    "\n",
    "Packages can be installed as follows.\n",
    "\n",
    ">```\n",
    "> # Using conda:\n",
    "> conda install <package_name>\n",
    ">\n",
    "> # Using pip:\n",
    "> pip install <package_name>\n",
    ">```\n",
    "\n",
    "**Exercise**: Activate the `mypanda` environment again and install 2 libraries from this list with useful Data Science libraries:\n",
    "\n",
    "- numpy (math functions, arrays)\n",
    "- pandas (dataframes, data munging)\n",
    "- sklearn (machine learning)\n",
    "- matplotlib (visualization)\n",
    "- seaborn (visualization)"
   ]
  },
  {
   "cell_type": "markdown",
   "metadata": {},
   "source": [
    "### Environment Specification Files\n",
    "\n",
    "Next, we shall export an environment specification to a file, traditionally named\n",
    "environment.yml and kept in the directory of the project that it belongs to.\n",
    "\n",
    "Note that yml comes from YAML (’YAML Ain’t Markup Language’). YAML is like XML: a plain text format for nested data structures. It can do everything XML can. Unlike XML, YAML was designed to be nice for humans to read and edit, which makes it a popular format for configuration files. Furthermore, by keeping this file under version control, you keep a record of your project’s requirements, which makes it easy for others to build and deploy.\n",
    "\n",
    "**Exercise**: Export your virtual environment to a YAML file:\n",
    "\n",
    ">```python \n",
    ">conda env export --name mypanda > environment.yml\n",
    "># have a look inside using your favourite editor\n",
    ">notepad environment.yml```\n",
    "\n",
    "**Exercise**: Once the specification is created, you can use the file to create an environment in a reproducible way:\n",
    "\n",
    ">```python \n",
    ">conda env create --file environment.yml --name redpanda\n",
    ">```\n",
    "\n",
    "Creating an environment from a file is done with `conda env create`; creating\n",
    "an environment from scratch is done with `conda create`. This inconsistency is\n",
    "a mystery.\n",
    "\n",
    "**Note**: if after executing `conda env create --file environment.yml --name redpanda` this error appears:\n",
    "\n",
    ">```python \n",
    ">Error: prefix already exists:\n",
    ">``` \n",
    "\n",
    "try solving it using:\n",
    "\n",
    ">```python \n",
    ">conda install -n root _license\n",
    ">```"
   ]
  },
  {
   "cell_type": "markdown",
   "metadata": {},
   "source": [
    "## C: Jupyter Notebooks\n",
    " \n",
    "Jupyter notebooks let you interactively write code and interleave it with its results,\n",
    "and with rich text. By keeping code, results, and text together, you get\n",
    "what is known as *reproducible research*. Jupyter notebooks are an offshoot of\n",
    "the IPython interpreter: IPython is a user-friendly interactive interpreter, while\n",
    "Jupyter focuses on the notebook technology. Thanks to the recent seperation of\n",
    "the codebases, Jupyter now also supports non-Python kernels such as R or Ruby."
   ]
  },
  {
   "cell_type": "markdown",
   "metadata": {},
   "source": [
    "### Exercises \n",
    "\n",
    "The first few steps use skills from the conda lab: we’ll set up an environment in\n",
    "which to run the notebook.\n",
    "\n",
    "1. Create a conda environment with the jupyter package installed.\n",
    "2. Activate the environment\n",
    "3. Create a folder in which you want to work, and export the environment.yml.\n",
    "\n",
    "Next, open a command line and launch a notebook by typing the command: \n",
    "\n",
    "> ```jupyter notebook```\n",
    "\n",
    "This command automatically launches a browser. Click around the interface and\n",
    "find out how to do the following things:\n",
    "\n",
    "- Create a new notebook\n",
    "- Open the notebook\n",
    "- Type some Python code and execute it with ```Shift + Enter```\n",
    "- Add a Markdown cell with ```*emphasis*, [a link](http://example.com)```, and ```## a level-two header```\n",
    "- Save a checkpoint of the notebook\n",
    "- Export the notebook as HTML\n",
    "\n",
    "**Tip**: use Esc-H to show keyboard shortcuts in Jupyter.\n",
    "\n",
    "--- \n",
    "\n",
    "Finally, open Explorer or the command line and look in the folder where you ran\n",
    "the notebook server. There will be an file .ipynb. You can send this file to other\n",
    "people just as you would with a normal file. If you run a notebook server in a\n",
    "folder containing this file, it will appear in the list of notebooks."
   ]
  },
  {
   "cell_type": "markdown",
   "metadata": {},
   "source": [
    "## Summary\n",
    "\n",
    "In this lab session we installed the `Anaconda` Python distribution and observed how to create, activate, deactivate and save `virtual environments`. Furthermore, we learned how to work with the `jupyter notebook` interface in an interactive work-flow.\n",
    "\n",
    "- Head over to the next notebook to learn more about Python Basics"
   ]
  }
 ],
 "metadata": {
  "anaconda-cloud": {},
  "kernelspec": {
   "display_name": "Python 3",
   "language": "python",
   "name": "python3"
  },
  "language_info": {
   "codemirror_mode": {
    "name": "ipython",
    "version": 3
   },
   "file_extension": ".py",
   "mimetype": "text/x-python",
   "name": "python",
   "nbconvert_exporter": "python",
   "pygments_lexer": "ipython3",
   "version": "3.9.1"
  }
 },
 "nbformat": 4,
 "nbformat_minor": 1
}
