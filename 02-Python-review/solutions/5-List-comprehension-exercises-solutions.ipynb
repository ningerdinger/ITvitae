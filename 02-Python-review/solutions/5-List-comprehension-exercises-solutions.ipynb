{
 "cells": [
  {
   "cell_type": "markdown",
   "metadata": {},
   "source": [
    "---\n",
    "\n",
    "<img src=\"../logo/anchormen-logo.svg\" width=\"500\">\n",
    "\n",
    "---"
   ]
  },
  {
   "cell_type": "markdown",
   "metadata": {},
   "source": [
    "# Exercises: solutions"
   ]
  },
  {
   "cell_type": "markdown",
   "metadata": {},
   "source": [
    "## Before you start\n",
    "\n",
    "> *This set of exercises was written to accomodate a class of very mixed ability. The difficulty level of the exercises, therefore, ranges from 'easy' to 'really quite tricky' via 'only easy once you know how'. Therefore, don't be disheartened if you run into a difficult exercise: instead, tackle it, Google it, ask colleagues for tips, study the solution, try to recreate the solution, and learn as much as possible along the way.*"
   ]
  },
  {
   "cell_type": "code",
   "execution_count": 1,
   "metadata": {},
   "outputs": [],
   "source": [
    "import doctest  # Doctest\n",
    "import itertools\n",
    "import random\n",
    "import re\n",
    "import sys\n",
    "\n",
    "from pathlib import Path"
   ]
  },
  {
   "cell_type": "markdown",
   "metadata": {},
   "source": [
    "\n",
    "### Write a function that takes a dict as input, and returns `True` if the dict contains the key `Jill`"
   ]
  },
  {
   "cell_type": "code",
   "execution_count": 2,
   "metadata": {},
   "outputs": [
    {
     "data": {
      "text/plain": [
       "TestResults(failed=0, attempted=3)"
      ]
     },
     "execution_count": 2,
     "metadata": {},
     "output_type": "execute_result"
    }
   ],
   "source": [
    "def contains_jill(mydict):\n",
    "    \"\"\"Does the dictionary contain an item with the key 'Pier'?\n",
    "    \n",
    "    The code below is a doctest: the first line with `>>> ` contains the code to test,\n",
    "    and the line below contains the expected output.\n",
    "    `doctest.testmod()` tests all docstrings in a module.\n",
    "    \n",
    "    >>> contains_jill({'Jill': 8})\n",
    "    True\n",
    "    \n",
    "    >>> contains_jill({'Jack': 9})\n",
    "    False\n",
    "    \n",
    "    >>> contains_jill({'Jack': 10,\n",
    "    ...     'Jill': 11,\n",
    "    ...     'pail of water': 12})\n",
    "    True\n",
    "    \"\"\"\n",
    "    return 'Jill' in mydict\n",
    "\n",
    "doctest.testmod()"
   ]
  },
  {
   "cell_type": "markdown",
   "metadata": {},
   "source": [
    "Remark / extra detail: \n",
    "The reason to test with 'is True' and 'is False' is to test whether the function returns the exact object `True`/`False`. Python has a concept called 'truthiness': where Python expects `True` or `False`, such as in an `assert`- or `if`-statement, you can also pass an ordinary value that is then interpreted as True or False.\n",
    "\n",
    "These are the main falsy values:\n",
    "- `None`\n",
    "- 0\n",
    "- `''` (the empty string)\n",
    "- `[]` (the empty list)\n",
    "- `{}` (the empty dict)\n",
    "\n",
    "Checking for truthiness vs checking for the value `True`:\n",
    "\n",
    "    if x:           # Checks if x is truthy: True, nonempty string, nonempty list, an object, etc.\n",
    "    if x is True:   # Checks if x has the value `True`\n",
    "    if not x:       # Checks if x is falsy: None, False, '', [], or {} are all okay.\n",
    "    if x is False:  # Checks if x has the value `False`\n",
    "    \n",
    "To see if Python thinks a value `x` is truthy or falsy, run `bool(x)`."
   ]
  },
  {
   "cell_type": "markdown",
   "metadata": {},
   "source": [
    "### A function that takes a dict as input, and returns a smaller dict with only those key-value pairs whose key starts with a capital"
   ]
  },
  {
   "cell_type": "code",
   "execution_count": 3,
   "metadata": {},
   "outputs": [
    {
     "data": {
      "text/plain": [
       "TestResults(failed=0, attempted=4)"
      ]
     },
     "execution_count": 3,
     "metadata": {},
     "output_type": "execute_result"
    }
   ],
   "source": [
    "def keep_only_capitals(dict):\n",
    "    \"\"\"\n",
    "    Keep only items whose key starts with a capital letter.\n",
    "    \n",
    "    >>> keep_only_capitals({'Pier': 'baard', 'tjoris': 'baardloos'})\n",
    "    {'Pier': 'baard'}\n",
    "    \"\"\"\n",
    "    return {key: value for key, value in dict.items() if key[0].isupper()}\n",
    "\n",
    "doctest.testmod()"
   ]
  },
  {
   "cell_type": "markdown",
   "metadata": {},
   "source": [
    "## Exercises with `pathlib.Path`\n",
    "\n",
    "These exercises let you practice reading the Python standard library documention. Useful for this very common situtation: \"I should be able to do this with library function. Let me read the docs, find the functions I need, and figure out how to use them.\"\n",
    "\n",
    "https://docs.python.org/3.6/library/pathlib.html"
   ]
  },
  {
   "cell_type": "markdown",
   "metadata": {},
   "source": [
    "### A function that accepts a path as a string, and checks whether the file/directory described by that string exists"
   ]
  },
  {
   "cell_type": "code",
   "execution_count": 4,
   "metadata": {},
   "outputs": [
    {
     "data": {
      "text/plain": [
       "True"
      ]
     },
     "execution_count": 4,
     "metadata": {},
     "output_type": "execute_result"
    }
   ],
   "source": [
    "def file_exists(string):\n",
    "    return Path(string).exists()\n",
    "\n",
    "# `!` is a Jupyter Notebook special. It runs a command in the shell:\n",
    "#     Cmd or Powershell on Windows, your usual shell (usually Bash) on Linux.\n",
    "# `echo something` sends the string 'something' to standard output.\n",
    "# Usually standard output is printed to the command line.\n",
    "# `command > filename` redirects the command's output so it is not printed to the command line, but\n",
    "#     overwrites a file.\n",
    "# If the file does not exist yet, it is created: exactly what we want, because now we can test file_exists!\n",
    "!echo hallo > monkey\n",
    "file_exists('monkey')"
   ]
  },
  {
   "cell_type": "code",
   "execution_count": 5,
   "metadata": {},
   "outputs": [
    {
     "data": {
      "text/plain": [
       "False"
      ]
     },
     "execution_count": 5,
     "metadata": {},
     "output_type": "execute_result"
    }
   ],
   "source": [
    "# On windows: !del monkey\n",
    "!rm monkey\n",
    "file_exists('monkey')"
   ]
  },
  {
   "cell_type": "markdown",
   "metadata": {},
   "source": [
    "### A function that returns a list of all files and folders in the current folder."
   ]
  },
  {
   "cell_type": "code",
   "execution_count": 6,
   "metadata": {},
   "outputs": [
    {
     "data": {
      "text/plain": [
       "[PosixPath('.ipynb_checkpoints'),\n",
       " PosixPath('3-Python-Exercises-solutions.ipynb'),\n",
       " PosixPath('5-List-comprehension-exercises-solutions.ipynb')]"
      ]
     },
     "execution_count": 6,
     "metadata": {},
     "output_type": "execute_result"
    }
   ],
   "source": [
    "def list_contents(folder='.'):\n",
    "    \"\"\"\n",
    "    List of all files and directories in the given folder\n",
    "\n",
    "    Parameters\n",
    "    ----------\n",
    "    folder: str\n",
    "        The folder whose contents you want to know. Default is '.', the current folder.\n",
    "\n",
    "    Returns\n",
    "    -------\n",
    "    list of paths\n",
    "        List of files and folders in the current directory\n",
    "    \"\"\"\n",
    "    return list(Path(folder).glob('*'))\n",
    "\n",
    "list_contents('.')"
   ]
  },
  {
   "cell_type": "markdown",
   "metadata": {},
   "source": [
    "### A function that returns two lists: one with all folders in the current folder, one with all files"
   ]
  },
  {
   "cell_type": "code",
   "execution_count": 7,
   "metadata": {},
   "outputs": [
    {
     "data": {
      "text/plain": [
       "([PosixPath('3-Python-Exercises-solutions.ipynb'),\n",
       "  PosixPath('5-List-comprehension-exercises-solutions.ipynb')],\n",
       " [PosixPath('.ipynb_checkpoints')])"
      ]
     },
     "execution_count": 7,
     "metadata": {},
     "output_type": "execute_result"
    }
   ],
   "source": [
    "def files_and_folders(folder='.'):\n",
    "    \"\"\"\n",
    "    Return a list of files and a list of folders in the current folder.\n",
    "    \n",
    "    Parameters\n",
    "    ----------\n",
    "    folder: str\n",
    "        The folder whose contents you want to know. Default is '.', the current folder.\n",
    "\n",
    "    Returns\n",
    "    --------\n",
    "    A tuple (list of files, list of folders).\n",
    "    \"\"\"\n",
    "    contents = list_contents(folder)  # Make use of the function defined above\n",
    "    files = [file for file in contents if file.is_file()]\n",
    "    mappen = [file for file in contents if file.is_dir()]\n",
    "    return (files, mappen)\n",
    "\n",
    "files_and_folders()"
   ]
  },
  {
   "cell_type": "markdown",
   "metadata": {},
   "source": [
    "## Generators"
   ]
  },
  {
   "cell_type": "markdown",
   "metadata": {},
   "source": [
    "### Advanced: A script that reads each line of the access log, and figures out how many bytes were sent in total."
   ]
  },
  {
   "cell_type": "code",
   "execution_count": 8,
   "metadata": {},
   "outputs": [
    {
     "name": "stdout",
     "output_type": "stream",
     "text": [
      "140.180.132.213 - - [24/Feb/2008:00:08:59 -0600] \"GET /ply/ply.html HTTP/1.1\" 200 97238\r",
      "\r\n",
      "140.180.132.213 - - [24/Feb/2008:00:08:59 -0600] \"GET /favicon.ico HTTP/1.1\" 404 133\r",
      "\r\n",
      "75.54.118.139 - - [24/Feb/2008:00:15:40 -0600] \"GET / HTTP/1.1\" 200 4447\r",
      "\r\n",
      "75.54.118.139 - - [24/Feb/2008:00:15:41 -0600] \"GET /images/Davetubes.jpg HTTP/1.1\" 200 60025\r",
      "\r\n",
      "75.54.118.139 - - [24/Feb/2008:00:15:42 -0600] \"GET /favicon.ico HTTP/1.1\" 404 133\r",
      "\r\n",
      "75.54.118.139 - - [24/Feb/2008:00:15:49 -0600] \"GET /software.html HTTP/1.1\" 200 3163\r",
      "\r\n",
      "75.54.118.139 - - [24/Feb/2008:00:16:10 -0600] \"GET /ply/index.html HTTP/1.1\" 200 8018\r",
      "\r\n",
      "75.54.118.139 - - [24/Feb/2008:00:16:11 -0600] \"GET /ply/bookplug.gif HTTP/1.1\" 200 23903\r",
      "\r\n",
      "213.145.165.82 - - [24/Feb/2008:00:16:19 -0600] \"GET /ply/ HTTP/1.1\" 200 8018\r",
      "\r\n",
      "128.143.38.83 - - [24/Feb/2008:00:31:39 -0600] \"GET /favicon.ico HTTP/1.1\" 404 133\r",
      "\r\n"
     ]
    }
   ],
   "source": [
    "!head ../data/access-log"
   ]
  },
  {
   "cell_type": "code",
   "execution_count": 9,
   "metadata": {},
   "outputs": [
    {
     "name": "stdout",
     "output_type": "stream",
     "text": [
      "230741830\n"
     ]
    }
   ],
   "source": [
    "def get_bytes(string):\n",
    "    \"\"\"Find bytes at the end of the string by matching\n",
    "    a regular expression: 1 or more digits, followed by the end-of-string.\n",
    "    \"\"\"\n",
    "    maybe_bytes = re.findall('[0-9]+$', string)  # list of 1 or empty list\n",
    "    if len(maybe_bytes) == 0:\n",
    "        return '0'\n",
    "    else:\n",
    "        return maybe_bytes[0]  # return string\n",
    "    \n",
    "def get_bytes_2(string):\n",
    "    \"\"\"\n",
    "    Variant: Find bytes at the end of the string by splitting the string on whitespace and taking the last element.\n",
    "    \"\"\"\n",
    "    # The byte count is the last element of the line, so let's just split on whitespace\n",
    "    maybe_bytes = string.split()[-1]\n",
    "    if maybe_bytes == '-':\n",
    "        return 0\n",
    "    return int(maybe_bytes)\n",
    "\n",
    "with open('../data/access-log') as f:\n",
    "    lines = f.readlines()\n",
    "    str_bytes = (get_bytes(line) for line in lines)\n",
    "    # If you skip this step, you'll get an error: try doing sum(['1', '2']) to see the error\n",
    "    int_bytes = (int(string) for string in str_bytes)\n",
    "    print(sum(int_bytes))"
   ]
  },
  {
   "cell_type": "markdown",
   "metadata": {},
   "source": [
    "### Advanced: Write a function that takes one argument: a string that represents part of a filename. The function should read the access log line by line, and count how often a filename is requested that matches the pattern.\n",
    "\n",
    "The filename is the 7th word of each log line; the part that comes after GET."
   ]
  },
  {
   "cell_type": "code",
   "execution_count": 10,
   "metadata": {},
   "outputs": [
    {
     "data": {
      "text/plain": [
       "1883"
      ]
     },
     "execution_count": 10,
     "metadata": {},
     "output_type": "execute_result"
    }
   ],
   "source": [
    "def count_file_occurences(pattern, file='../data/access-log'):\n",
    "    \"\"\"\n",
    "    Parameters\n",
    "    ----------\n",
    "    pattern: str\n",
    "        A substring of the file we are interested in\n",
    "    file: str\n",
    "        default '../access-log'. The file in which we should look for file occurrences.\n",
    "    \"\"\"\n",
    "    with open(file) as f:\n",
    "        lines = f.readlines()\n",
    "        files = (line.split()[6] for line in lines)\n",
    "        # Iterators don't support len(), because they are potentially infinite.\n",
    "        # So let's map relevant files to 1, and sum the ones.\n",
    "        relevant_files = (1 for file2 in files if pattern in file2)\n",
    "        return(sum(relevant_files))\n",
    "    \n",
    "count_file_occurences('favicon')"
   ]
  },
  {
   "cell_type": "markdown",
   "metadata": {},
   "source": [
    "## Advanced: Convert the function above to a generator function like you saw in the slides: instead of returning a number, it should yield the lines that contain the filename pattern, one by one."
   ]
  },
  {
   "cell_type": "markdown",
   "metadata": {},
   "source": [
    "The first way to write a generator function: use `yield`, generally from inside a loop so you can yield values one by one."
   ]
  },
  {
   "cell_type": "code",
   "execution_count": 11,
   "metadata": {},
   "outputs": [
    {
     "data": {
      "text/plain": [
       "['75.54.118.139 - - [24/Feb/2008:00:15:41 -0600] \"GET /images/Davetubes.jpg HTTP/1.1\" 200 60025\\n',\n",
       " '75.54.118.139 - - [24/Feb/2008:00:15:41 -0600] \"GET /images/Davetubes.jpg HTTP/1.1\" 200 60025\\n',\n",
       " '75.54.118.139 - - [24/Feb/2008:00:15:41 -0600] \"GET /images/Davetubes.jpg HTTP/1.1\" 200 60025\\n',\n",
       " '75.54.118.139 - - [24/Feb/2008:00:15:41 -0600] \"GET /images/Davetubes.jpg HTTP/1.1\" 200 60025\\n',\n",
       " '75.54.118.139 - - [24/Feb/2008:00:15:41 -0600] \"GET /images/Davetubes.jpg HTTP/1.1\" 200 60025\\n',\n",
       " '75.54.118.139 - - [24/Feb/2008:00:15:41 -0600] \"GET /images/Davetubes.jpg HTTP/1.1\" 200 60025\\n']"
      ]
     },
     "execution_count": 11,
     "metadata": {},
     "output_type": "execute_result"
    }
   ],
   "source": [
    "def matching_file_generator(pattern, file='../data/access-log'):\n",
    "    with open(file) as f:\n",
    "        lines = f.readlines()\n",
    "        # We are interested in the line, but we must inspect the line's filename.\n",
    "        # So let's keep track of both\n",
    "        lines_and_files = ((line, line.split()[6]) for line in lines)\n",
    "        for line, filename in lines_and_files:\n",
    "            if pattern in filename:\n",
    "                yield line\n",
    "                \n",
    "# The itertools module contains all sorts of nifty tools to work with iterators\n",
    "# We are going to use `itertools.islice` to get the first 6 elements,\n",
    "# because slicing a generator with my_generator[:6] doesn't work.\n",
    "import itertools\n",
    "list(itertools.islice(matching_file_generator('jpg'), 0, 6))\n",
    "\n",
    "# alternatively:\n",
    "[next(matching_file_generator('jpg')) for i in range(6)]"
   ]
  },
  {
   "cell_type": "markdown",
   "metadata": {},
   "source": [
    "The second way to write a generator function: `yield from` an existing generator or generator expression."
   ]
  },
  {
   "cell_type": "code",
   "execution_count": 12,
   "metadata": {},
   "outputs": [
    {
     "data": {
      "text/plain": [
       "['75.54.118.139 - - [24/Feb/2008:00:15:41 -0600] \"GET /images/Davetubes.jpg HTTP/1.1\" 200 60025\\n',\n",
       " '86.132.71.214 - - [24/Feb/2008:00:37:55 -0600] \"GET /images/NerdRanchEurope.jpg HTTP/1.1\" 200 99542\\n',\n",
       " '198.37.27.153 - - [24/Feb/2008:01:36:07 -0600] \"GET /images/NerdRanchEurope.jpg HTTP/1.1\" 200 99542\\n',\n",
       " '201.236.226.90 - - [24/Feb/2008:09:54:24 -0600] \"GET /images/Davetubes.jpg HTTP/1.1\" 200 60025\\n',\n",
       " '65.214.45.114 - - [24/Feb/2008:14:41:42 -0600] \"GET /images/superboard.jpg HTTP/1.0\" 200 71119\\n',\n",
       " '75.32.37.138 - - [24/Feb/2008:16:12:30 -0600] \"GET /images/Davetubes.jpg HTTP/1.1\" 200 60025\\n']"
      ]
     },
     "execution_count": 12,
     "metadata": {},
     "output_type": "execute_result"
    }
   ],
   "source": [
    "def matching_file_generator2(pattern, file='../data/access-log'):\n",
    "    with open(file) as f:\n",
    "        lines = f.readlines()\n",
    "        lines_and_files = ((line, line.split()[6]) for line in lines)\n",
    "        yield from (line for line, filename in lines_and_files if pattern in filename)\n",
    "\n",
    "list(itertools.islice(matching_file_generator2('jpg'), 0, 6))"
   ]
  },
  {
   "cell_type": "markdown",
   "metadata": {},
   "source": [
    "Bonus: how context managers work.\n",
    "\n",
    "When you write a with-statement, a.k.a. a context manager, like this:\n",
    "   \n",
    "    with open(myfile) as f:\n",
    "        # do stuff with f\n",
    "        \n",
    "    # or \n",
    "    \n",
    "    with my_context_manager() as x:\n",
    "        ...\n",
    "\n",
    "This is how the context manager is implemented. Python takes care of calling `__init__`, `__enter__`, and `__exit__`. You don't need to know this right away (you can look it up when you need it), but it could help your sense that 'under the hood, it's not magic'."
   ]
  },
  {
   "cell_type": "code",
   "execution_count": 13,
   "metadata": {},
   "outputs": [
    {
     "name": "stdout",
     "output_type": "stream",
     "text": [
      "230741830\n"
     ]
    }
   ],
   "source": [
    "class MyOpen:\n",
    "    def __init__(self, bestandsnaam):\n",
    "        \"\"\"Initialisation\"\"\"\n",
    "        self.bestandsnaam = bestandsnaam\n",
    "        \n",
    "    def __enter__(self):\n",
    "        \"\"\"Inside the context, we work with an open file\"\"\"\n",
    "        self.open_file = open(self.bestandsnaam)\n",
    "        # The return value of __enter__ is bound to x in `with MyOpen('access-log') as x:`\n",
    "        return self.open_file  #\n",
    "    \n",
    "    def __exit__(self, exception_type, exception_value, traceback):\n",
    "        \"\"\"Outside the context, the file is closed again.\"\"\"\n",
    "        self.open_file.close()\n",
    "        \n",
    "\n",
    "with MyOpen('../data/access-log') as f:\n",
    "    lines = f.readlines()\n",
    "    str_bytes = (get_bytes(line) for line in lines)\n",
    "    int_bytes = (int(string) for string in str_bytes)\n",
    "    print(sum(int_bytes))"
   ]
  },
  {
   "cell_type": "markdown",
   "metadata": {},
   "source": [
    "## Advanced: guessing game\n",
    "\n",
    "Write a function that lets the user guess a number.\n",
    "\n",
    "* It thinks of a number between 0 and 100.\n",
    "* It uses input() to ask the user for a guess.\n",
    "* If the guess is 'q', the function exits.\n",
    "* It prints 'lower' or 'higher' if the true number is lower/higher than the guess.\n",
    "* If the user guesses right, the function exits.\n",
    "\n",
    "Hints: use `while True` to keep looping while the guess is wrong, `break` to break out of the loop when the guess is right, and `continue` to jump to the start of the loop."
   ]
  },
  {
   "cell_type": "code",
   "execution_count": 14,
   "metadata": {},
   "outputs": [
    {
     "name": "stdout",
     "output_type": "stream",
     "text": [
      "Which number from 0 to 100 am I thinking of?3\n",
      "higher...\n",
      "Which number from 0 to 100 am I thinking of?80\n",
      "lower...\n",
      "Which number from 0 to 100 am I thinking of?50\n",
      "higher...\n",
      "Which number from 0 to 100 am I thinking of?60\n",
      "higher...\n",
      "Which number from 0 to 100 am I thinking of?67\n",
      "lower...\n",
      "Which number from 0 to 100 am I thinking of?65\n",
      "lower...\n",
      "Which number from 0 to 100 am I thinking of?64\n",
      "Supercalifragilisticexpialidocious!\n"
     ]
    }
   ],
   "source": [
    "import random\n",
    "\n",
    "def guessing_game(secret_number=None):\n",
    "    if secret_number is None:\n",
    "        secret_number = random.randint(0, 100)\n",
    "\n",
    "    while True:\n",
    "        user_input = input('Which number from 0 to 100 am I thinking of?')\n",
    "        \n",
    "        # Kijk of de speler wil stoppen\n",
    "        if user_input == 'q':\n",
    "            print('Playtime is over')\n",
    "            return  # Klaar!\n",
    "        \n",
    "        # Kijk of het een getal is\n",
    "        try:\n",
    "            guess = int(user_input)\n",
    "        except ValueError:\n",
    "            print(\"That's not a number\")\n",
    "            continue  # Vraag om nieuwe input\n",
    "        \n",
    "        # We hebben een getal; geef een hint.\n",
    "        if secret_number < guess:\n",
    "            print('lower...')\n",
    "            continue  # Vraag om nieuwe input\n",
    "        elif guess == secret_number:\n",
    "            print(\"Supercalifragilisticexpialidocious!\")\n",
    "            return  # Klaar!   \n",
    "        elif guess < secret_number:\n",
    "            print('higher...')\n",
    "            continue  # Vraag om nieuwe input\n",
    "            \n",
    "guessing_game()"
   ]
  },
  {
   "cell_type": "markdown",
   "metadata": {},
   "source": [
    "## Tricky to get right: number guesser\n",
    "\n",
    "Write a function that guesses a number\n",
    "\n",
    "* The user thinks of a number between 0 and 100\n",
    "* De function prints a guess, and uses `input()` to ask the user if the guess is correct.\n",
    "* The user indicates whether the number is higher or lower than the guess.\n",
    "* When the user indicates the guess is correct, the function returns."
   ]
  },
  {
   "cell_type": "code",
   "execution_count": 15,
   "metadata": {},
   "outputs": [
    {
     "name": "stdout",
     "output_type": "stream",
     "text": [
      "Is it 50? (y)es/(l)ower/(h)igher/(q)uit: q\n",
      "farewell\n"
     ]
    }
   ],
   "source": [
    "def getallenrader():\n",
    "    at_least = 0\n",
    "    at_most = 100\n",
    "    while True:\n",
    "        if at_most < at_least:\n",
    "            print(\"At {lower_than} you said 'less' and at {higher_than} you said 'higher'. \"\n",
    "                  \"That can't be true.\".format(\n",
    "                      lower_than=at_most + 1,\n",
    "                      higher_than=at_least - 1))\n",
    "            return\n",
    "        guess = round((at_least + at_most) / 2)\n",
    "        feedback = input('Is it {guess}? (y)es/(l)ower/(h)igher/(q)uit: '.format(guess=guess))\n",
    "        if feedback.startswith('q'):\n",
    "            print('farewell')\n",
    "            return\n",
    "        elif feedback.startswith('y'):\n",
    "            print(\"Hooray, it's {guess}!\".format(guess=guess))\n",
    "            return\n",
    "        elif feedback.startswith('h'):\n",
    "            at_least = guess + 1\n",
    "            continue\n",
    "        elif feedback.startswith('l'):\n",
    "            at_most = guess - 1\n",
    "            continue\n",
    "        else:\n",
    "            continue\n",
    "            \n",
    "getallenrader()"
   ]
  },
  {
   "cell_type": "markdown",
   "metadata": {},
   "source": [
    "## Not that hard once you know how: convert the guessing_game function to a command-line script\n",
    "\n",
    "A Python command-line script is in a `.py`-file, and has the following structure:\n",
    "\n",
    "    import sys\n",
    "\n",
    "    def main(command_line_arguments)\n",
    "        ...\n",
    "\n",
    "    if __name__ == '__main__':\n",
    "        main(sys.argv)\n",
    "\n",
    "Write a command-line script that can be invoked like this:\n",
    "\n",
    "    python guessing_game.py 40\n",
    "\n",
    "after which the user may guess the number.\n",
    "\n",
    "Extensions for extra challenge:\n",
    "\n",
    "* Detect when the program is invoked without a number argument; in that case, the script chooses a number on its own.\n",
    "\n",
    "      python guessing_game.py\n",
    "\n",
    "* Make it possible for the user to pass their name, after which the programm addresses them by name.\n",
    "\n",
    "      python guessing_game.py 40 Draco"
   ]
  },
  {
   "cell_type": "code",
   "execution_count": 16,
   "metadata": {},
   "outputs": [
    {
     "name": "stdout",
     "output_type": "stream",
     "text": [
      "\n",
      "Invoke this script as follows:\n",
      "    guessing_game.py 40\n",
      "where 40 is the number you want to guess at.\n",
      "\n"
     ]
    },
    {
     "ename": "SystemExit",
     "evalue": "1",
     "output_type": "error",
     "traceback": [
      "An exception has occurred, use %tb to see the full traceback.\n",
      "\u001b[0;31mSystemExit\u001b[0m\u001b[0;31m:\u001b[0m 1\n"
     ]
    },
    {
     "name": "stderr",
     "output_type": "stream",
     "text": [
      "/home/angel/anaconda3/lib/python3.8/site-packages/IPython/core/interactiveshell.py:3426: UserWarning: To exit: use 'exit', 'quit', or Ctrl-D.\n",
      "  warn(\"To exit: use 'exit', 'quit', or Ctrl-D.\", stacklevel=1)\n"
     ]
    }
   ],
   "source": [
    "# file: guessing_game.py\n",
    "import sys\n",
    "\n",
    "HELP = \"\"\"\n",
    "Invoke this script as follows:\n",
    "    guessing_game.py 40\n",
    "where 40 is the number you want to guess at.\n",
    "\"\"\"\n",
    "\n",
    "## ---- start of guessing_game() function\n",
    "\n",
    "## FIXME: this is where you paste the definition of guessing_game(), as seen above.\n",
    "\n",
    "## ---- End of guessing_game() function\n",
    "\n",
    "def validate_args(args):\n",
    "    \"\"\"Return the number to guess\"\"\"\n",
    "    script_name, true_args = args[0], args[1:]\n",
    "    if len(true_args) != 1:\n",
    "        print(HELP)\n",
    "        sys.exit(1)  # Exit with a non-zero exit code to signify error (not required, but many UNIX programs do it)\n",
    "    try:\n",
    "        return int(true_args)[0]\n",
    "    except ValueError:\n",
    "        print(HELP)\n",
    "        sys.exit(1)  # Exit with a non-zero exit code to signify error (not required, but many UNIX programs do it)\n",
    "\n",
    "\n",
    "def main(args):\n",
    "    getal = validate_args(args)\n",
    "    guessing_game(getal)\n",
    "\n",
    "# __name__ is the name/import position of the current module in the program.\n",
    "# When you import this file with `import guessing_game`, __name__ will be equal to \"guessing_game\".\n",
    "# When you run this module with `python guessing_game.py`, __name__ will be equal to '__main__'.\n",
    "# The code below means 'only *run* main when the user is running the script, not importing it.'\n",
    "if __name__ == '__main__':\n",
    "    main(sys.argv)"
   ]
  }
 ],
 "metadata": {
  "kernelspec": {
   "display_name": "Python 3",
   "language": "python",
   "name": "python3"
  },
  "language_info": {
   "codemirror_mode": {
    "name": "ipython",
    "version": 3
   },
   "file_extension": ".py",
   "mimetype": "text/x-python",
   "name": "python",
   "nbconvert_exporter": "python",
   "pygments_lexer": "ipython3",
   "version": "3.9.1"
  }
 },
 "nbformat": 4,
 "nbformat_minor": 2
}
