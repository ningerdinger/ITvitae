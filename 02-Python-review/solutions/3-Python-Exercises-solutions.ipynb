{
 "cells": [
  {
   "cell_type": "markdown",
   "metadata": {},
   "source": [
    "---\n",
    "\n",
    "<img src=\"../logo/anchormen-logo.svg\" width=\"500\">\n",
    "\n",
    "---"
   ]
  },
  {
   "cell_type": "markdown",
   "metadata": {},
   "source": [
    "#  BASICS lab: Python Exercises \n",
    "\n",
    "Try to solve the exercises "
   ]
  },
  {
   "cell_type": "markdown",
   "metadata": {},
   "source": [
    "** Given the variables:**\n",
    "\n",
    "```name = 'Lisa'\n",
    "   age = 18 ```\n",
    "   \n",
    "** Use .format() to print the following string:**\n",
    "** Use f-Strings to print the following string:**\n",
    "\n",
    "```The name of the girl is Lisa and her age is 18. ```"
   ]
  },
  {
   "cell_type": "code",
   "execution_count": 1,
   "metadata": {},
   "outputs": [],
   "source": [
    "name = 'Lisa'\n",
    "age = 18 "
   ]
  },
  {
   "cell_type": "code",
   "execution_count": 2,
   "metadata": {},
   "outputs": [
    {
     "name": "stdout",
     "output_type": "stream",
     "text": [
      "The name of the girl is Lisa and her age is 18\n"
     ]
    }
   ],
   "source": [
    "print ('The name of the girl is {name} and her age is {age}'.format(name=name, age=age))"
   ]
  },
  {
   "cell_type": "code",
   "execution_count": 3,
   "metadata": {},
   "outputs": [
    {
     "name": "stdout",
     "output_type": "stream",
     "text": [
      "The name of the girl is Lisa and her age is 18\n"
     ]
    }
   ],
   "source": [
    "print (f'The name of the girl is {name} and her age is {age}')"
   ]
  },
  {
   "cell_type": "markdown",
   "metadata": {},
   "source": [
    "**Given the list in the cell below, grab the word 'Pear'.**"
   ]
  },
  {
   "cell_type": "code",
   "execution_count": 4,
   "metadata": {},
   "outputs": [],
   "source": [
    "l = [10, 22, ['hi', 'ha', 'ho'], [4, [23, 11, ['Pear']], 8, 9]]"
   ]
  },
  {
   "cell_type": "code",
   "execution_count": 5,
   "metadata": {},
   "outputs": [
    {
     "data": {
      "text/plain": [
       "'Pear'"
      ]
     },
     "execution_count": 5,
     "metadata": {},
     "output_type": "execute_result"
    }
   ],
   "source": [
    "l[3][1][2][0]"
   ]
  },
  {
   "cell_type": "markdown",
   "metadata": {},
   "source": [
    "** What is the main difference between a list and a tuple? **"
   ]
  },
  {
   "cell_type": "markdown",
   "metadata": {
    "collapsed": true
   },
   "source": [
    "A list is mutable and a tuple is immutable"
   ]
  },
  {
   "cell_type": "markdown",
   "metadata": {},
   "source": [
    "**Make a dictionary which maps the cities and states/regions in your country. ** "
   ]
  },
  {
   "cell_type": "code",
   "execution_count": 6,
   "metadata": {},
   "outputs": [],
   "source": [
    "#small example:\n",
    "region_cities = {'Noord Holland': 'Haarlem', 'Limburg': 'Maastricht', 'Groningen': 'Groningen'}"
   ]
  },
  {
   "cell_type": "markdown",
   "metadata": {},
   "source": [
    "**Write a function that converts Fahrenheit degrees to Celcius degrees**"
   ]
  },
  {
   "cell_type": "code",
   "execution_count": 7,
   "metadata": {},
   "outputs": [],
   "source": [
    "def convert_to_celcius(fahrenheit):\n",
    "    '''(number) -> number\n",
    "    Return Celcius degrees equivalent to Fahrenheit degrees\n",
    "    \n",
    "    >>> convert_to_celcius(32)\n",
    "    0.0\n",
    "    >>> convert_to_celcius(212)\n",
    "    100.0\n",
    "    '''\n",
    "    return (fahrenheit - 32) * 5/9\n",
    "\n",
    "assert convert_to_celcius(32) == 0.0, 'The function is not corret yet!'"
   ]
  },
  {
   "cell_type": "markdown",
   "metadata": {},
   "source": [
    "**Write a function that returns the area of a triangle. After the function is designed and tested, write a function that takes the area of two pizza slices and return the biggest area. Then pass in the area-function as a parameter of the pizza-function.**"
   ]
  },
  {
   "cell_type": "code",
   "execution_count": 8,
   "metadata": {},
   "outputs": [],
   "source": [
    "def area(base, height):                                       \n",
    "    return base * height / 2    \n",
    "\n",
    "def bigger_pizza_slice(pizza_slice1, pizza_slice2):\n",
    "    return max(pizza_slice1, pizza_slice2)\n",
    "\n",
    "assert bigger_pizza_slice(area(3.8, 7.0), area(3.5, 6.8)) == 13.299999999999999, 'The function is not corret yet!'"
   ]
  },
  {
   "cell_type": "markdown",
   "metadata": {},
   "source": [
    "**Write a function that takes a scheduled time moment for a flight and an estimated time moment for a flight, based on these parameters the function should return weither the flight is 'on time', 'early' or 'delayed'. ** "
   ]
  },
  {
   "cell_type": "code",
   "execution_count": 9,
   "metadata": {},
   "outputs": [],
   "source": [
    "def report_status(scheduled_time, estimated_time):\n",
    "    '''(number, number) -> str\n",
    "    \n",
    "    Return the flight status (on time, early, delayed) for a flight \n",
    "    that was scheduled to arrive at scheduled_time but is now estimated \n",
    "    to arrive at estimated_time. \n",
    "    \n",
    "    >>> report_status(12.2, 12.2)\n",
    "    'on time'\n",
    "    >>> report_status(12.5, 11.5)\n",
    "    'early'\n",
    "    >>> report_status(6.0, 6.5)\n",
    "    'delayed'\n",
    "    '''\n",
    "    if scheduled_time == estimated_time:\n",
    "        return ('on time')\n",
    "    elif scheduled_time > estimated_time:\n",
    "        return 'early'\n",
    "    else: \n",
    "        return 'delayed'\n",
    "    \n",
    "assert report_status(12.5, 11.5) == 'early', 'The function is not corret yet!'\n"
   ]
  },
  {
   "cell_type": "markdown",
   "metadata": {},
   "source": [
    "**First write a function that takes a DNA string and returns the lenght of the string. Next write a function that takes a DNA string as input and one specified nucleotide (ATCG), the function should return the amount of nucleotide's in the DNA sequence. Finally write a function that returns True if the given input string is a valid DNA string. A valid DNA string can only contain the nucleotides (ATCG). ** "
   ]
  },
  {
   "cell_type": "code",
   "execution_count": 10,
   "metadata": {},
   "outputs": [],
   "source": [
    "def get_length(dna):\n",
    "    \"\"\" (str) -> int\n",
    "\n",
    "    Return the length of the DNA sequence dna.\n",
    "\n",
    "    >>> get_length('ATCGAT')\n",
    "    6\n",
    "    >>> get_length('ATCG')\n",
    "    4\n",
    "    \"\"\"\n",
    "    return len(dna)\n",
    "\n",
    "assert get_length('ATCGAT') == 6, 'The function is not corret yet!'\n",
    "\n",
    "def count_nucleotides(dna, nucleotide):\n",
    "    \"\"\" (str, str) -> int\n",
    "\n",
    "    Return the number of occurrences of nucleotide in the DNA sequence dna.\n",
    "\n",
    "    >>> count_nucleotides('ATCGGC', 'G')\n",
    "    2\n",
    "    >>> count_nucleotides('ATCTA', 'G')\n",
    "    0\n",
    "    \"\"\"\n",
    "    number = 0 \n",
    "    for char in dna:\n",
    "        if char in nucleotide:\n",
    "            number += 1\n",
    "    return number\n",
    "\n",
    "assert count_nucleotides('ATCTA', 'G') == 0, 'The function is not corret yet!'\n",
    "\n",
    "def is_valid_sequence(potential_dna):\n",
    "    '''\n",
    "    (str) -> boolean\n",
    "    \n",
    "    Return True if potential_dna is a potential DNA sequence. \n",
    "    \n",
    "    >>> is_valid_sequence('ATCGGC')\n",
    "    True\n",
    "    '''\n",
    "    DNA = 'ATCG'\n",
    "    result = True \n",
    "    for char in potential_dna: \n",
    "        if char not in DNA:\n",
    "            result = False \n",
    "    return result \n",
    "\n",
    "assert is_valid_sequence('ATCGGC') == True, 'The function is not corret yet!'"
   ]
  },
  {
   "cell_type": "markdown",
   "metadata": {},
   "source": [
    "**Write a function that returns True if a number is even, False otherwise.**\n",
    "**Extra challenge: replace \"even\" with \"prime\".**"
   ]
  },
  {
   "cell_type": "code",
   "execution_count": 11,
   "metadata": {},
   "outputs": [],
   "source": [
    "def is_even(num): \n",
    "    '''(int) -> bool\n",
    "    \n",
    "    >>> is_even(4):\n",
    "    True\n",
    "    >>> is_even(77):\n",
    "    False\n",
    "    '''\n",
    "    if (num % 2 == 0.0):\n",
    "        return True\n",
    "    else: \n",
    "        return False    \n",
    "    \n",
    "#OR\n",
    "\n",
    "def is_even(num): \n",
    "    '''(int) -> bool\n",
    "    \n",
    "    >>> is_even(4)\n",
    "    True\n",
    "    >>> is_even(77)\n",
    "    False\n",
    "    '''\n",
    "    return (num % 2 == 0.0)\n",
    "\n",
    "assert is_even(4) == True, 'The function is not corret yet!'"
   ]
  },
  {
   "cell_type": "markdown",
   "metadata": {
    "collapsed": true
   },
   "source": [
    "**Write a function that returns the number of seconds that a time in seconds (time_2) later is than time_1 in seconds. Next, write a function that takes two times (in seconds) and returns how many hours later the second parameter (time_2) is that the first parameter (time_1).** "
   ]
  },
  {
   "cell_type": "code",
   "execution_count": 12,
   "metadata": {},
   "outputs": [
    {
     "data": {
      "text/plain": [
       "TestResults(failed=0, attempted=20)"
      ]
     },
     "execution_count": 12,
     "metadata": {},
     "output_type": "execute_result"
    }
   ],
   "source": [
    "def seconds_difference(time_1, time_2):\n",
    "    \"\"\" (number, number) -> number\n",
    "\n",
    "    Return the number of seconds later that a time in seconds\n",
    "    time_2 is than a time in seconds time_1.\n",
    "        \n",
    "    >>> seconds_difference(1800.0, 3600.0)\n",
    "    1800.0\n",
    "    >>> seconds_difference(3600.0, 1800.0)\n",
    "    -1800.0\n",
    "    >>> seconds_difference(1800.0, 2160.0)\n",
    "    360.0\n",
    "    >>> seconds_difference(1800.0, 1800.0)\n",
    "    0.0\n",
    "    \"\"\"\n",
    "    return time_2 - time_1\n",
    "\n",
    "assert seconds_difference(1800.0, 3600.0) == 1800.0, 'The function is not corret yet!'\n",
    "\n",
    "def hours_difference(time_1, time_2):\n",
    "    \"\"\" (number, number) -> float\n",
    "\n",
    "    Return the number of hours later that a time in seconds\n",
    "    time_2 is than a time in seconds time_1.\n",
    "        \n",
    "    >>> hours_difference(1800.0, 3600.0)\n",
    "    0.5\n",
    "    >>> hours_difference(3600.0, 1800.0)\n",
    "    -0.5\n",
    "    >>> hours_difference(1800.0, 2160.0)\n",
    "    0.1\n",
    "    >>> hours_difference(1800.0, 1800.0)\n",
    "    0.0\n",
    "    \"\"\"\n",
    "    second_difference = seconds_difference(time_1, time_2)\n",
    "    minutes_difference = second_difference / 60 \n",
    "    difference_times = minutes_difference / 60 \n",
    "    return difference_times \n",
    "\n",
    "\n",
    "assert hours_difference(1800.0, 3600.0) == 0.5, 'The function is not corret yet!'\n",
    "\n",
    "import doctest\n",
    "doctest.testmod()"
   ]
  },
  {
   "cell_type": "markdown",
   "metadata": {},
   "source": [
    "**First write a function that converts the hours that have passed since midnight. So the hours as seen on a 24-hour clock. (Note that the input hours should be above 0). Next write a function that takes the the UTC offset (which specifies the time zone) and the second parameter is a time in that time zone. The function should return the equivalent UTC+0 time. Furthermore the function should return the time on a 24 hour clock (which was specified by the first function). For both functions **"
   ]
  },
  {
   "cell_type": "code",
   "execution_count": 13,
   "metadata": {},
   "outputs": [],
   "source": [
    "def to_24_hour_clock(hours):\n",
    "    \"\"\" (number) -> number\n",
    "\n",
    "    hours is a number of hours since midnight. Return the\n",
    "    hour as seen on a 24-hour clock.\n",
    "\n",
    "    Precondition: hours >= 0\n",
    "\n",
    "    >>> to_24_hour_clock(24)\n",
    "    0\n",
    "    >>> to_24_hour_clock(48)\n",
    "    0\n",
    "    >>> to_24_hour_clock(25)\n",
    "    1\n",
    "    >>> to_24_hour_clock(4)\n",
    "    4\n",
    "    >>> to_24_hour_clock(28.5)\n",
    "    4.5\n",
    "    \"\"\"\n",
    "\n",
    "    return hours % 24\n",
    "\n",
    "assert to_24_hour_clock(28.5) == 4.5, 'The function is not corret yet!'\n",
    "\n",
    "def time_from_utc(utc_offset, time):\n",
    "    \"\"\" (number, float) -> float\n",
    "\n",
    "    Return UTC time in time zone utc_offset.\n",
    "\n",
    "    >>> time_from_utc(+0, 12.0)\n",
    "    12.0\n",
    "    >>> time_from_utc(+1, 12.0)\n",
    "    13.0\n",
    "    >>> time_from_utc(-1, 12.0)\n",
    "    11.0\n",
    "    >>> time_from_utc(+6, 6.0)\n",
    "    12.0\n",
    "    >>> time_from_utc(-7, 6.0)\n",
    "    23.0\n",
    "    >>> time_from_utc(-1, 0.0)\n",
    "    23.0\n",
    "    >>> time_from_utc(-1, 23.0)\n",
    "    22.0\n",
    "    >>> time_from_utc(+1, 23.0)\n",
    "    0.0\n",
    "    \"\"\"\n",
    "    return to_24_hour_clock((utc_offset)+time)\n",
    "\n",
    "assert time_from_utc(-1, 23.0) == 22.0, 'The function is not corret yet!'"
   ]
  },
  {
   "cell_type": "markdown",
   "metadata": {},
   "source": [
    "**Create a Dog Class which has the the attributes: breed, name and a method bark (which prints whoeff). Then make two instances of the class one which refers to Sam which is a lab and Frank which is breed is huskie**"
   ]
  },
  {
   "cell_type": "code",
   "execution_count": 14,
   "metadata": {},
   "outputs": [
    {
     "data": {
      "text/plain": [
       "'Lab'"
      ]
     },
     "execution_count": 14,
     "metadata": {},
     "output_type": "execute_result"
    }
   ],
   "source": [
    "class Dog(object):\n",
    "    def __init__(self,breed, name):\n",
    "        self.breed = breed\n",
    "        self.name = name\n",
    "    \n",
    "    def bark(self):\n",
    "        print (\"Whoeff!\")\n",
    "        \n",
    "sam = Dog(breed='Lab', name= 'Sam')\n",
    "frank = Dog(breed='Huskie', name = 'Frank')\n",
    "\n",
    "sam.name\n",
    "sam.breed\n",
    "#frank.bark()"
   ]
  },
  {
   "cell_type": "code",
   "execution_count": null,
   "metadata": {},
   "outputs": [],
   "source": []
  }
 ],
 "metadata": {
  "anaconda-cloud": {},
  "kernelspec": {
   "display_name": "Python 3",
   "language": "python",
   "name": "python3"
  },
  "language_info": {
   "codemirror_mode": {
    "name": "ipython",
    "version": 3
   },
   "file_extension": ".py",
   "mimetype": "text/x-python",
   "name": "python",
   "nbconvert_exporter": "python",
   "pygments_lexer": "ipython3",
   "version": "3.8.5"
  }
 },
 "nbformat": 4,
 "nbformat_minor": 1
}
